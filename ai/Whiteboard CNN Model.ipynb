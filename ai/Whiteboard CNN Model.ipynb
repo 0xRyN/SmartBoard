{
 "cells": [
  {
   "cell_type": "markdown",
   "id": "bbe166ba-8e22-4f31-b036-1dab0836f4d6",
   "metadata": {
    "jp-MarkdownHeadingCollapsed": true
   },
   "source": [
    "## Plan de la présentation\n",
    "\n",
    "I. Introduction sur les CNN\n",
    "\n",
    "1. Qu'est ce qu'un CNN\n",
    "2. Pourquoi avoir choisi de construire un modèle CNN\n",
    "\n",
    "II. Préparation du dataset\n",
    "\n",
    "1. Séparation du dataset (train, validation, test)\n",
    "2. Choix des classes et itération sur le dataset\n",
    "3. Prétraitement et normalisation des images\n",
    "\n",
    "III. Construction, entrainement et testing du modèle\n",
    "\n",
    "1. Construction du modèle\n",
    "2. Entrainement du modèle\n",
    "3. Testing de l'efficacité du modèle\n",
    "\n",
    "IV. Conclusion\n",
    "\n",
    "V. Quelques sources scientifiques utilisées"
   ]
  },
  {
   "cell_type": "markdown",
   "id": "0fc7e5c9-55cb-44ab-b791-c287a5d5cc3b",
   "metadata": {},
   "source": [
    "## I. Introduction sur les CNN\n",
    "\n",
    "### 1. Qu'est-ce qu'un CNN\n",
    "\n",
    "Les CNN sont une catégorie de réseaux de neurones artificiels profonds, principalement utilisés pour traiter des données ayant une topologie de grille, comme les images. Un CNN se compose de plusieurs couches conçues pour reconnaître des patterns de plus en plus complexes au fur et à mesure que les données progressent à travers le réseau.\n",
    "\n",
    "Les éléments clés qui constituent un CNN incluent :\n",
    "\n",
    "- **Les layers de convolution**, où des filtres / kernels sont appliqués sur l'entrée pour créer des \"feature maps\". Cela permet de détécter des spécificités de l'image, comme des bords, des courbes, des concentrations de couleurs etc...\n",
    "  \n",
    "- **Les layers de pooling**, qui sont appliqués sur les feature maps pour réduire leur taille. On utilise en général du max pooling 2x2, permettant de garder, sur une matrice de 4 pixels, seulement le pixel max (celui qui a la plus haute valeur en grayscale par exemple). Garder le pixel max permet de réduire la taille de l'image tout en conservant les informations importantes de l'image.\n",
    "  \n",
    "- **Les layers de normalisation**, qui aident à accélérer la convergence du réseau en normalisant les entrées de chaque couche. Par exemple, sur une liste de valeurs d'activation de neurone a une étape donnée, la normalisation va convertir toutes ces valeurs à des valeurs entre 0 et 1 (car la sortie est composée de n neurones, n étant le nombre de classes, dont chaque valeur est la probabilité de la prédiction, donc entre 0 et 1, somme = 1)\n",
    "  \n",
    "- **Le layer complètement connecté** (ou fully connected layer), où tous les neurones d'une couche sont connectés à chaque neurone de la couche suivante, permettant de classer les données en fonction des caractéristiques extraites par les couches précédentes.\n",
    "\n",
    "La capacité des CNN à détecter des caractéristiques d'une image par convolution et maxpooling un les rend particulièrement adaptés pour des tâches de vision par ordinateur telles que la classification d'images, la reconnaissance de formes et la détection d'objets.\n",
    "\n",
    "### 2. Pourquoi avoir choisi de faire un modèle CNN\n",
    "\n",
    "Les CNN ont été choisis pour ce projet de classification de formes dessinées à la main pour plusieurs raisons :\n",
    "\n",
    "- **Capacité à extraire des caractéristiques locales** : Les CNN sont capables d'identifier des caractéristiques locales dans des images, comme les bords et les formes simples, qui sont cruciales pour différencier des formes géométriques comme les ellipses, les rectangles et les triangles.\n",
    "  \n",
    "- **Invariance spatiale** : Les CNN peuvent reconnaître des formes indépendamment de leur position dans l'image grâce aux opérations de convolution et de pooling, ce qui est idéal pour traiter des dessins à main levée qui peuvent varier en orientation et en position.\n",
    "  \n",
    "- **Performance de pointe** : Les CNN ont démontré une performance exceptionnelle sur diverses tâches de vision par ordinateur, y compris la classification d'images, surpassant les approches classiques et d'autres architectures de réseaux de neurones dans de nombreux cas.\n",
    "  \n",
    "- **Adaptabilité et apprentissage profond** : La capacité des CNN à apprendre des représentations de données profondes et hiérarchiques leur permet de s'adapter et de généraliser à partir d'un ensemble de données d'entraînement vers de nouvelles formes inédites, ce qui est essentiel pour un système robuste de reconnaissance de formes.\n",
    "\n",
    "**Références**:\n",
    "- *Krizhevsky, A., Sutskever, I., & Hinton, G. E. (2012). ImageNet classification with deep convolutional neural networks. In Advances in neural information processing systems (pp. 1097-1105).* Cet article décrit l'architecture AlexNet, un CNN qui a largement remporté le [défi ImageNet LSVRC-2012](https://image-net.org/challenges/LSVRC/2012/results.html) face au state of the art, démontrant l'efficacité des CNN pour la classification d'images.\n"
   ]
  },
  {
   "cell_type": "markdown",
   "id": "f2d76eaa-d482-435a-9d4d-f6f5ecfe6dbc",
   "metadata": {},
   "source": [
    "## II. Préparation du dataset\n",
    "\n",
    "Commençons a préparer notre dataset. Tout d'abord, importons les librairies nécessaires :"
   ]
  },
  {
   "cell_type": "code",
   "execution_count": 1,
   "id": "6e1ec273-209a-4019-9f40-18e872f9a0cb",
   "metadata": {},
   "outputs": [
    {
     "name": "stderr",
     "output_type": "stream",
     "text": [
      "2024-04-28 22:31:34.120655: I tensorflow/core/platform/cpu_feature_guard.cc:210] This TensorFlow binary is optimized to use available CPU instructions in performance-critical operations.\n",
      "To enable the following instructions: AVX2 FMA, in other operations, rebuild TensorFlow with the appropriate compiler flags.\n",
      "2024-04-28 22:31:35.273444: W tensorflow/compiler/tf2tensorrt/utils/py_utils.cc:38] TF-TRT Warning: Could not find TensorRT\n"
     ]
    }
   ],
   "source": [
    "import os\n",
    "from time import sleep\n",
    "\n",
    "import cv2\n",
    "import matplotlib.pyplot as plt\n",
    "import numpy as np\n",
    "import tensorflow as tf\n",
    "from tensorflow.keras.callbacks import ReduceLROnPlateau\n",
    "from tensorflow.keras.layers import (\n",
    "    Activation,\n",
    "    BatchNormalization,\n",
    "    Conv2D,\n",
    "    Dense,\n",
    "    Dropout,\n",
    "    Flatten,\n",
    "    Input,\n",
    "    MaxPooling2D,\n",
    ")\n",
    "from tensorflow.keras.models import Model\n",
    "from tensorflow.keras.optimizers import Adam\n",
    "from tensorflow.keras.preprocessing.image import ImageDataGenerator\n",
    "from tensorflow.keras.utils import to_categorical"
   ]
  },
  {
   "cell_type": "markdown",
   "id": "f1924479-bcda-403c-bc6c-df0aae63cc45",
   "metadata": {},
   "source": [
    "Initialisons maintenant les variables globales et les constantes nécessaires"
   ]
  },
  {
   "cell_type": "code",
   "execution_count": 2,
   "id": "b62f8cfc-71bf-4ff4-9669-b7eace9bb37f",
   "metadata": {},
   "outputs": [],
   "source": [
    "main_dir = \"data/\"\n",
    "img_size = 70\n",
    "\n",
    "train_images = []\n",
    "train_labels = []\n",
    "validation_images = []\n",
    "validation_labels = []\n",
    "test_images = []\n",
    "test_labels = []\n",
    "class_names = {}\n",
    "class_index = 0"
   ]
  },
  {
   "cell_type": "markdown",
   "id": "3caccaf0-ab02-48c7-b35d-df56d11dfeb0",
   "metadata": {},
   "source": [
    "Définissions maintenant les classes de sortie, les outputs que doit prédire le modèle, et une fonction utilitaire"
   ]
  },
  {
   "cell_type": "code",
   "execution_count": 3,
   "id": "49f813c7-9738-407b-affa-5a5edc7d917b",
   "metadata": {},
   "outputs": [],
   "source": [
    "shape_classes = {\n",
    "    \"other\": 0,\n",
    "    \"ellipse\": 1,\n",
    "    \"rectangle\": 2,\n",
    "    \"triangle\": 3,\n",
    "}\n",
    "\n",
    "num_classes = len(shape_classes)\n",
    "\n",
    "def get_class_name(class_index):\n",
    "    for class_name, index in shape_classes.items():\n",
    "        if index == class_index:\n",
    "            return class_name\n",
    "    return None"
   ]
  },
  {
   "cell_type": "markdown",
   "id": "e21d9da2-1a90-4683-8cf3-71af293bffe2",
   "metadata": {},
   "source": [
    "### 1. Séparation du dataset (train, validation, test)\n",
    "\n",
    "Séparer un dataset en train, validation et test est une pratique standard qui sert à optimiser et évaluer la performance des modèles de manière non biasée.\n",
    "\n",
    "- La partie d'entraînement est utilisée pour ajuster les paramètres du modèle, c'est-à-dire que le modèle apprend à reconnaître des patterns ou des caractéristiques à partir de cette portion de données.\n",
    "  \n",
    "- La partie de validation, quant à elle, est utilisée pour affiner les hyperparamètres du modèle (comme le taux d'apprentissage ou le nombre de couches dans un réseau de neurones) et pour prévenir le surajustement (overfitting), qui survient lorsque le modèle apprend trop bien les données d'entraînement jusqu'à ne pas pouvoir être appliqué sur de nouvelles données.\n",
    "\n",
    "- Enfin, la partie de test sert à évaluer la performance générale du modèle sur un jeu de données jamais vu auparavant, fournissant ainsi une mesure objective de sa capacité à généraliser. Nous l'utilisons pour notamment évaluer le degré d'overfitting.\n",
    "\n",
    "*Nous séparons le dataset (train, validation, test) selon les recommandations du créateur du dataset.*"
   ]
  },
  {
   "cell_type": "code",
   "execution_count": 4,
   "id": "085061f9-d2da-4b5f-bff1-f09cbed3cac7",
   "metadata": {},
   "outputs": [],
   "source": [
    "validation_users = [\"crt\", \"il1\", \"lts\", \"mrt\", \"nae\"]\n",
    "\n",
    "test_users = [\"u01\", \"u17\", \"u18\", \"u19\"]"
   ]
  },
  {
   "cell_type": "markdown",
   "id": "f882b2e5-0ce8-4dfb-bf2c-be3e60ae694b",
   "metadata": {},
   "source": [
    "### 2. Itération et traitement du dataset\n",
    "\n",
    "Ajoutons d'abord une fonction utilitaire qui s'occupe de pré-traiter les images (grayscale et resize) :"
   ]
  },
  {
   "cell_type": "code",
   "execution_count": 5,
   "id": "08ea5e30-504f-4b2d-8c52-d8b906db1118",
   "metadata": {},
   "outputs": [],
   "source": [
    "def pre_process_image(image_path):\n",
    "    \"\"\"Pre-process the image, load it, grayscale it, and resize it\"\"\"\n",
    "    image = cv2.imread(image_path, cv2.IMREAD_GRAYSCALE)\n",
    "    image = cv2.resize(image, (img_size, img_size))\n",
    "    return image"
   ]
  },
  {
   "cell_type": "markdown",
   "id": "f3d02045-48be-4f7a-8243-00e99b984e8a",
   "metadata": {},
   "source": [
    "L'itération sur le dataset et l'importation est majoritairement fait par cette fonction qui itère sur un dossier, pre-process et charge en mémoire les images du dataset."
   ]
  },
  {
   "cell_type": "code",
   "execution_count": 6,
   "id": "1a2a93fc-bb70-49fb-8138-76fa358c0a3b",
   "metadata": {},
   "outputs": [],
   "source": [
    "def process_directory(directory, images, labels):\n",
    "    \"\"\"Process the directory and add images to the specified set\"\"\"\n",
    "    print(f\"Processing directory: {directory}\")\n",
    "    for shape_type in os.listdir(directory):\n",
    "        for img in os.listdir(directory + shape_type):\n",
    "            if not img.endswith(\".png\") and not img.endswith(\".jpg\"):\n",
    "                continue\n",
    "            full_path = os.path.join(directory, shape_type, img)\n",
    "            image = pre_process_image(full_path)\n",
    "            images.append(image)\n",
    "            labels.append(shape_classes[os.path.basename(shape_type)])"
   ]
  },
  {
   "cell_type": "markdown",
   "id": "0aecc8fb-18f1-4bbe-a264-ca699cb7fe80",
   "metadata": {},
   "source": [
    "Pour le **training** data set, nous utilisons cette fonction"
   ]
  },
  {
   "cell_type": "code",
   "execution_count": 7,
   "id": "7b29da92-0ffa-49de-9d3e-4af6ceefd802",
   "metadata": {},
   "outputs": [],
   "source": [
    "def walk_training_data():\n",
    "    \"\"\"Walk on the data directory and process the images\"\"\"\n",
    "    print(\"Walking on the data directory...\")\n",
    "    for directory in os.listdir(main_dir):\n",
    "        if directory in validation_users or directory in test_users:\n",
    "            continue\n",
    "        process_directory(main_dir + directory + \"/images/\", train_images, train_labels)"
   ]
  },
  {
   "cell_type": "markdown",
   "id": "da4cba9d-4890-4d55-8651-b3b17f41a9e1",
   "metadata": {},
   "source": [
    "**Petite démo**"
   ]
  },
  {
   "cell_type": "code",
   "execution_count": 8,
   "id": "8bd14e0b-0b22-4711-946d-6e221c7553de",
   "metadata": {
    "scrolled": true
   },
   "outputs": [
    {
     "name": "stdout",
     "output_type": "stream",
     "text": [
      "Walking on the data directory...\n",
      "Processing directory: data/user.vly/images/\n",
      "Processing directory: data/user.u01/images/\n",
      "Processing directory: data/user.u17/images/\n",
      "Processing directory: data/user.if8/images/\n",
      "Processing directory: data/user.frt/images/\n",
      "Processing directory: data/user.u18/images/\n",
      "Processing directory: data/user.crt/images/\n",
      "Processing directory: data/user.if1/images/\n",
      "Processing directory: data/user.lrt/images/\n",
      "Processing directory: data/user.u06/images/\n",
      "Processing directory: data/user.u07/images/\n",
      "Processing directory: data/user.lts/images/\n",
      "Processing directory: data/user.u02/images/\n",
      "Processing directory: data/user.u13/images/\n",
      "Processing directory: data/user.u03/images/\n",
      "Processing directory: data/user.nae/images/\n",
      "Processing directory: data/user.elu/images/\n",
      "Processing directory: data/user.if3/images/\n",
      "Processing directory: data/user.u05/images/\n",
      "Processing directory: data/user.mrt/images/\n",
      "Processing directory: data/user.u10/images/\n",
      "Processing directory: data/user.il1/images/\n",
      "Processing directory: data/user.u12/images/\n",
      "Processing directory: data/user.if5/images/\n",
      "Processing directory: data/user.u11/images/\n",
      "Processing directory: data/user.nld/images/\n",
      "Processing directory: data/user.u08/images/\n",
      "Processing directory: data/user.u09/images/\n",
      "Processing directory: data/user.if2/images/\n",
      "Processing directory: data/user.lt1/images/\n",
      "Processing directory: data/user.u14/images/\n",
      "Processing directory: data/user.u04/images/\n",
      "Processing directory: data/user.aly/images/\n",
      "Processing directory: data/user.u19/images/\n",
      "Processing directory: data/user.ilb/images/\n",
      "Processing directory: data/user.im1/images/\n",
      "Processing directory: data/user.drt/images/\n"
     ]
    }
   ],
   "source": [
    "walk_training_data()"
   ]
  },
  {
   "cell_type": "markdown",
   "id": "a4e300e0-d041-452d-b575-2303d9d39281",
   "metadata": {},
   "source": [
    "Pour le **validation** data set, nous utilisons cette fonction"
   ]
  },
  {
   "cell_type": "code",
   "execution_count": 9,
   "id": "beb75c3b-7866-42d0-a800-f9ef3d75eb31",
   "metadata": {},
   "outputs": [],
   "source": [
    "def prepare_validation_data():\n",
    "    \"\"\"Prepare data for validation\"\"\"\n",
    "    print(\"Preparing data for validation...\")\n",
    "    for directory in validation_users:\n",
    "        process_directory(\n",
    "            main_dir + \"user.\" + directory + \"/images/\",\n",
    "            validation_images,\n",
    "            validation_labels,\n",
    "        )"
   ]
  },
  {
   "cell_type": "markdown",
   "id": "c3f02cd3-e379-46d6-a8ce-4ac57bb01dd2",
   "metadata": {},
   "source": [
    "**Petite démo**"
   ]
  },
  {
   "cell_type": "code",
   "execution_count": 10,
   "id": "76fe0c94-bfd5-42b1-bdbe-1cad72f2f02b",
   "metadata": {},
   "outputs": [
    {
     "name": "stdout",
     "output_type": "stream",
     "text": [
      "Preparing data for validation...\n",
      "Processing directory: data/user.crt/images/\n",
      "Processing directory: data/user.il1/images/\n",
      "Processing directory: data/user.lts/images/\n",
      "Processing directory: data/user.mrt/images/\n",
      "Processing directory: data/user.nae/images/\n"
     ]
    }
   ],
   "source": [
    "prepare_validation_data()"
   ]
  },
  {
   "cell_type": "markdown",
   "id": "f2c50e1e-a2d6-4dc6-99dd-c214343675ff",
   "metadata": {},
   "source": [
    "Pour le **test** data set, nous utilisons cette fonction"
   ]
  },
  {
   "cell_type": "code",
   "execution_count": 11,
   "id": "6d140372-e13d-4d1c-9f8d-42765aabbbd2",
   "metadata": {},
   "outputs": [],
   "source": [
    "def prepare_test_data():\n",
    "    \"\"\"Prepare data for testing\"\"\"\n",
    "    print(\"Preparing data for testing...\")\n",
    "    for directory in test_users:\n",
    "        process_directory(\n",
    "            main_dir + \"user.\" + directory + \"/images/\", test_images, test_labels\n",
    "        )"
   ]
  },
  {
   "cell_type": "markdown",
   "id": "a758eeb2-e788-4292-a460-79b0654af0b6",
   "metadata": {},
   "source": [
    "**Petite démo**"
   ]
  },
  {
   "cell_type": "code",
   "execution_count": 12,
   "id": "4850c272-0381-4914-a977-b09b8b823fb0",
   "metadata": {},
   "outputs": [
    {
     "name": "stdout",
     "output_type": "stream",
     "text": [
      "Preparing data for testing...\n",
      "Processing directory: data/user.u01/images/\n",
      "Processing directory: data/user.u17/images/\n",
      "Processing directory: data/user.u18/images/\n",
      "Processing directory: data/user.u19/images/\n"
     ]
    }
   ],
   "source": [
    "prepare_test_data()"
   ]
  },
  {
   "cell_type": "markdown",
   "id": "85cc1ee2-d6eb-4ae0-8487-091bc66b6a2c",
   "metadata": {},
   "source": [
    "## III. Prétraitement et normalisation des images\n",
    "\n",
    "Nous avons effectué une étape de prétraitement des images à l'étape précedente avec la fonction utilitaire `pre_process_image`.\n",
    "\n",
    "Nous allons maintenant normaliser notre data. A quoi cela sert ?\n",
    "\n",
    "Imaginons une image grayscale (valeur du pixel de 0 a 255), donc un input allant de 0 a 255. Notre output doit être entre 0 et 1.\n",
    "\n",
    "En gardant ces valeurs de 0 a 255, notre modèle prendra énormément de temps a converger. Nous normalisons donc chaque pixel en divisant chaque valeur par 255."
   ]
  },
  {
   "cell_type": "code",
   "execution_count": 13,
   "id": "0d43fc40-0178-4cac-8b5a-24fa18dcfeb0",
   "metadata": {},
   "outputs": [],
   "source": [
    "def prepare_data_for_training():\n",
    "    \"\"\"Prepare the whole data for training\"\"\"\n",
    "    print(\"Preparing data for training...\")\n",
    "    global train_images, train_labels, validation_images, validation_labels, test_images, test_labels\n",
    "    train_images = np.array(train_images) / 255.0\n",
    "    train_labels = np.array(train_labels)\n",
    "\n",
    "    validation_images = np.array(validation_images) / 255.0\n",
    "    validation_labels = np.array(validation_labels)\n",
    "\n",
    "    test_images = np.array(test_images) / 255.0\n",
    "    test_labels = np.array(test_labels)"
   ]
  },
  {
   "cell_type": "markdown",
   "id": "4fb216fb-07d7-4bf3-a77c-3c4b75d93a41",
   "metadata": {},
   "source": [
    "**Petite démo**"
   ]
  },
  {
   "cell_type": "code",
   "execution_count": 14,
   "id": "5d4fc2c4-014c-4cf8-b50b-2e3db907f054",
   "metadata": {},
   "outputs": [
    {
     "name": "stdout",
     "output_type": "stream",
     "text": [
      "Preparing data for training...\n"
     ]
    }
   ],
   "source": [
    "prepare_data_for_training()"
   ]
  },
  {
   "cell_type": "markdown",
   "id": "9b6ec16b-0e1f-4a2c-9647-92f68a96c075",
   "metadata": {},
   "source": [
    "## III. Construction, entrainement et testing du modèle\n",
    "\n",
    "À présent, commençons a construire notre modèle CNN, en expliquant et sourçant chaque choix.\n",
    "\n",
    "Voici comment nous avons procédé :\n",
    "\n",
    "1. Construire le CNN le plus simple possible. Il ressemblerait à cela :"
   ]
  },
  {
   "cell_type": "code",
   "execution_count": 15,
   "id": "78032957-71f7-4cdc-aec7-3df77f50bc42",
   "metadata": {},
   "outputs": [
    {
     "name": "stderr",
     "output_type": "stream",
     "text": [
      "/home/ryn/.local/lib/python3.12/site-packages/keras/src/layers/convolutional/base_conv.py:99: UserWarning: Do not pass an `input_shape`/`input_dim` argument to a layer. When using Sequential models, prefer using an `Input(shape)` object as the first layer in the model instead.\n",
      "  super().__init__(\n",
      "2024-04-28 22:32:59.566463: I external/local_xla/xla/stream_executor/cuda/cuda_executor.cc:984] could not open file to read NUMA node: /sys/bus/pci/devices/0000:09:00.0/numa_node\n",
      "Your kernel may have been built without NUMA support.\n",
      "2024-04-28 22:32:59.821411: I external/local_xla/xla/stream_executor/cuda/cuda_executor.cc:984] could not open file to read NUMA node: /sys/bus/pci/devices/0000:09:00.0/numa_node\n",
      "Your kernel may have been built without NUMA support.\n",
      "2024-04-28 22:32:59.821756: I external/local_xla/xla/stream_executor/cuda/cuda_executor.cc:984] could not open file to read NUMA node: /sys/bus/pci/devices/0000:09:00.0/numa_node\n",
      "Your kernel may have been built without NUMA support.\n",
      "2024-04-28 22:32:59.827451: I external/local_xla/xla/stream_executor/cuda/cuda_executor.cc:984] could not open file to read NUMA node: /sys/bus/pci/devices/0000:09:00.0/numa_node\n",
      "Your kernel may have been built without NUMA support.\n",
      "2024-04-28 22:32:59.827750: I external/local_xla/xla/stream_executor/cuda/cuda_executor.cc:984] could not open file to read NUMA node: /sys/bus/pci/devices/0000:09:00.0/numa_node\n",
      "Your kernel may have been built without NUMA support.\n",
      "2024-04-28 22:32:59.828202: I external/local_xla/xla/stream_executor/cuda/cuda_executor.cc:984] could not open file to read NUMA node: /sys/bus/pci/devices/0000:09:00.0/numa_node\n",
      "Your kernel may have been built without NUMA support.\n",
      "2024-04-28 22:33:00.060043: I external/local_xla/xla/stream_executor/cuda/cuda_executor.cc:984] could not open file to read NUMA node: /sys/bus/pci/devices/0000:09:00.0/numa_node\n",
      "Your kernel may have been built without NUMA support.\n",
      "2024-04-28 22:33:00.060308: I external/local_xla/xla/stream_executor/cuda/cuda_executor.cc:984] could not open file to read NUMA node: /sys/bus/pci/devices/0000:09:00.0/numa_node\n",
      "Your kernel may have been built without NUMA support.\n",
      "2024-04-28 22:33:00.060321: I tensorflow/core/common_runtime/gpu/gpu_device.cc:2019] Could not identify NUMA node of platform GPU id 0, defaulting to 0.  Your kernel may not have been built with NUMA support.\n",
      "2024-04-28 22:33:00.060629: I external/local_xla/xla/stream_executor/cuda/cuda_executor.cc:984] could not open file to read NUMA node: /sys/bus/pci/devices/0000:09:00.0/numa_node\n",
      "Your kernel may have been built without NUMA support.\n",
      "2024-04-28 22:33:00.061224: I tensorflow/core/common_runtime/gpu/gpu_device.cc:1928] Created device /job:localhost/replica:0/task:0/device:GPU:0 with 6055 MB memory:  -> device: 0, name: NVIDIA GeForce RTX 2080 SUPER, pci bus id: 0000:09:00.0, compute capability: 7.5\n"
     ]
    },
    {
     "data": {
      "text/html": [
       "<pre style=\"white-space:pre;overflow-x:auto;line-height:normal;font-family:Menlo,'DejaVu Sans Mono',consolas,'Courier New',monospace\"><span style=\"font-weight: bold\">Model: \"sequential\"</span>\n",
       "</pre>\n"
      ],
      "text/plain": [
       "\u001b[1mModel: \"sequential\"\u001b[0m\n"
      ]
     },
     "metadata": {},
     "output_type": "display_data"
    },
    {
     "data": {
      "text/html": [
       "<pre style=\"white-space:pre;overflow-x:auto;line-height:normal;font-family:Menlo,'DejaVu Sans Mono',consolas,'Courier New',monospace\">┏━━━━━━━━━━━━━━━━━━━━━━━━━━━━━━━━━┳━━━━━━━━━━━━━━━━━━━━━━━━┳━━━━━━━━━━━━━━━┓\n",
       "┃<span style=\"font-weight: bold\"> Layer (type)                    </span>┃<span style=\"font-weight: bold\"> Output Shape           </span>┃<span style=\"font-weight: bold\">       Param # </span>┃\n",
       "┡━━━━━━━━━━━━━━━━━━━━━━━━━━━━━━━━━╇━━━━━━━━━━━━━━━━━━━━━━━━╇━━━━━━━━━━━━━━━┩\n",
       "│ conv2d (<span style=\"color: #0087ff; text-decoration-color: #0087ff\">Conv2D</span>)                 │ (<span style=\"color: #00d7ff; text-decoration-color: #00d7ff\">None</span>, <span style=\"color: #00af00; text-decoration-color: #00af00\">26</span>, <span style=\"color: #00af00; text-decoration-color: #00af00\">26</span>, <span style=\"color: #00af00; text-decoration-color: #00af00\">32</span>)     │           <span style=\"color: #00af00; text-decoration-color: #00af00\">320</span> │\n",
       "├─────────────────────────────────┼────────────────────────┼───────────────┤\n",
       "│ max_pooling2d (<span style=\"color: #0087ff; text-decoration-color: #0087ff\">MaxPooling2D</span>)    │ (<span style=\"color: #00d7ff; text-decoration-color: #00d7ff\">None</span>, <span style=\"color: #00af00; text-decoration-color: #00af00\">13</span>, <span style=\"color: #00af00; text-decoration-color: #00af00\">13</span>, <span style=\"color: #00af00; text-decoration-color: #00af00\">32</span>)     │             <span style=\"color: #00af00; text-decoration-color: #00af00\">0</span> │\n",
       "├─────────────────────────────────┼────────────────────────┼───────────────┤\n",
       "│ flatten (<span style=\"color: #0087ff; text-decoration-color: #0087ff\">Flatten</span>)               │ (<span style=\"color: #00d7ff; text-decoration-color: #00d7ff\">None</span>, <span style=\"color: #00af00; text-decoration-color: #00af00\">5408</span>)           │             <span style=\"color: #00af00; text-decoration-color: #00af00\">0</span> │\n",
       "├─────────────────────────────────┼────────────────────────┼───────────────┤\n",
       "│ dense (<span style=\"color: #0087ff; text-decoration-color: #0087ff\">Dense</span>)                   │ (<span style=\"color: #00d7ff; text-decoration-color: #00d7ff\">None</span>, <span style=\"color: #00af00; text-decoration-color: #00af00\">4</span>)              │        <span style=\"color: #00af00; text-decoration-color: #00af00\">21,636</span> │\n",
       "└─────────────────────────────────┴────────────────────────┴───────────────┘\n",
       "</pre>\n"
      ],
      "text/plain": [
       "┏━━━━━━━━━━━━━━━━━━━━━━━━━━━━━━━━━┳━━━━━━━━━━━━━━━━━━━━━━━━┳━━━━━━━━━━━━━━━┓\n",
       "┃\u001b[1m \u001b[0m\u001b[1mLayer (type)                   \u001b[0m\u001b[1m \u001b[0m┃\u001b[1m \u001b[0m\u001b[1mOutput Shape          \u001b[0m\u001b[1m \u001b[0m┃\u001b[1m \u001b[0m\u001b[1m      Param #\u001b[0m\u001b[1m \u001b[0m┃\n",
       "┡━━━━━━━━━━━━━━━━━━━━━━━━━━━━━━━━━╇━━━━━━━━━━━━━━━━━━━━━━━━╇━━━━━━━━━━━━━━━┩\n",
       "│ conv2d (\u001b[38;5;33mConv2D\u001b[0m)                 │ (\u001b[38;5;45mNone\u001b[0m, \u001b[38;5;34m26\u001b[0m, \u001b[38;5;34m26\u001b[0m, \u001b[38;5;34m32\u001b[0m)     │           \u001b[38;5;34m320\u001b[0m │\n",
       "├─────────────────────────────────┼────────────────────────┼───────────────┤\n",
       "│ max_pooling2d (\u001b[38;5;33mMaxPooling2D\u001b[0m)    │ (\u001b[38;5;45mNone\u001b[0m, \u001b[38;5;34m13\u001b[0m, \u001b[38;5;34m13\u001b[0m, \u001b[38;5;34m32\u001b[0m)     │             \u001b[38;5;34m0\u001b[0m │\n",
       "├─────────────────────────────────┼────────────────────────┼───────────────┤\n",
       "│ flatten (\u001b[38;5;33mFlatten\u001b[0m)               │ (\u001b[38;5;45mNone\u001b[0m, \u001b[38;5;34m5408\u001b[0m)           │             \u001b[38;5;34m0\u001b[0m │\n",
       "├─────────────────────────────────┼────────────────────────┼───────────────┤\n",
       "│ dense (\u001b[38;5;33mDense\u001b[0m)                   │ (\u001b[38;5;45mNone\u001b[0m, \u001b[38;5;34m4\u001b[0m)              │        \u001b[38;5;34m21,636\u001b[0m │\n",
       "└─────────────────────────────────┴────────────────────────┴───────────────┘\n"
      ]
     },
     "metadata": {},
     "output_type": "display_data"
    },
    {
     "data": {
      "text/html": [
       "<pre style=\"white-space:pre;overflow-x:auto;line-height:normal;font-family:Menlo,'DejaVu Sans Mono',consolas,'Courier New',monospace\"><span style=\"font-weight: bold\"> Total params: </span><span style=\"color: #00af00; text-decoration-color: #00af00\">21,956</span> (85.77 KB)\n",
       "</pre>\n"
      ],
      "text/plain": [
       "\u001b[1m Total params: \u001b[0m\u001b[38;5;34m21,956\u001b[0m (85.77 KB)\n"
      ]
     },
     "metadata": {},
     "output_type": "display_data"
    },
    {
     "data": {
      "text/html": [
       "<pre style=\"white-space:pre;overflow-x:auto;line-height:normal;font-family:Menlo,'DejaVu Sans Mono',consolas,'Courier New',monospace\"><span style=\"font-weight: bold\"> Trainable params: </span><span style=\"color: #00af00; text-decoration-color: #00af00\">21,956</span> (85.77 KB)\n",
       "</pre>\n"
      ],
      "text/plain": [
       "\u001b[1m Trainable params: \u001b[0m\u001b[38;5;34m21,956\u001b[0m (85.77 KB)\n"
      ]
     },
     "metadata": {},
     "output_type": "display_data"
    },
    {
     "data": {
      "text/html": [
       "<pre style=\"white-space:pre;overflow-x:auto;line-height:normal;font-family:Menlo,'DejaVu Sans Mono',consolas,'Courier New',monospace\"><span style=\"font-weight: bold\"> Non-trainable params: </span><span style=\"color: #00af00; text-decoration-color: #00af00\">0</span> (0.00 B)\n",
       "</pre>\n"
      ],
      "text/plain": [
       "\u001b[1m Non-trainable params: \u001b[0m\u001b[38;5;34m0\u001b[0m (0.00 B)\n"
      ]
     },
     "metadata": {},
     "output_type": "display_data"
    }
   ],
   "source": [
    "from tensorflow.keras import layers, models\n",
    "\n",
    "input_shape = (28, 28, 1)\n",
    "num_classes = 4 # Ellipse, Rectangle, Triangle, Other\n",
    "\n",
    "model = models.Sequential()\n",
    "\n",
    "# Add a simple convolutional layer with 32 filters, a kernel size of 3x3, \n",
    "# activation function ReLU, and the defined input shape\n",
    "model.add(layers.Conv2D(32, (3, 3), activation='relu', input_shape=input_shape))\n",
    "\n",
    "# Add a max pooling layer to reduce the spatial dimensions of the output volume\n",
    "model.add(layers.MaxPooling2D((2, 2)))\n",
    "\n",
    "# Flatten the 3D output to 1D to feed it into the dense layer\n",
    "model.add(layers.Flatten())\n",
    "\n",
    "# Add a dense layer for classification. \n",
    "# Assuming a simple binary classification, hence units=1 and activation='sigmoid'.\n",
    "model.add(layers.Dense(num_classes, activation='softmax'))\n",
    "\n",
    "# Compile the model specifying the optimizer, loss, and metrics to monitor\n",
    "model.compile(optimizer='adam', loss='categorical_crossentropy', metrics=['accuracy'])\n",
    "\n",
    "# Show model summary\n",
    "model.summary()"
   ]
  },
  {
   "cell_type": "markdown",
   "id": "6458d253-6f91-4dbb-8756-6c46a02a62fb",
   "metadata": {},
   "source": [
    "Évidemment, il ne convergera jamais vers une accuracy raisonnable, car après les convolutions et maxpooling, le Flatten() donne 5408 paramètres d'input. Les connecter a un fully connected layer de 4 neurones est tout simplement trop peu.\n",
    "\n",
    "L'étape suivante est d'ajouter un fully connected layer (Dense), rajoutant de la complexité.\n",
    "\n",
    "Puis d'observer les pratiques scientifiques et de l'industrie pour connaître les bonnes pratiques permettant une meilleur accuracy :\n",
    "\n",
    "- Ajouter plus de layer Dense\n",
    "- Ajouter plus de convolutions + maxpooling\n",
    "- Ajouter du dropout pour réduire l'overfitting\n",
    "- Placer stratégiquement le maxpooling et le dropout pour viser uniquement les feature maps profondes\n",
    "- Utiliser d'autres fonctions d'activations (par exemple mish, relu, etc)\n",
    "- Changer le nombre de feature maps (conv2d) a chaque étape\n",
    "- Normaliser les input a des étapes stratégiques (BatchNormalization)\n",
    "- Déformer intentionnellement les images d'entrainement pour réduire l'overfitting (ajouter du zoom, rotation, padding, symmétries, etc...)\n",
    "- Utiliser des Learning Rate Scheduler, qui réduisent stratégiquement la vitesse d'entrainement (du gradient descent) lorsqu'on se rapproche de la convergence\n",
    "- Réduire / Augmenter le nombre d'épochs (influence énormément la vitesse d'entrainement)\n",
    "- Changer des valeurs a une étape x du modèle et benchmark la différence sur l'accuracy\n",
    "\n",
    "Cette partie est celle qui nous a pris le plus de temps sur ce projet, surtout lorsque nous prenons en compte le temps d'entrainement. Après tout, le machine learning est avant tout une science d'expérimentation.\n",
    "\n",
    "Voici une citation de [Jason Brownlee](https://scholar.google.com/citations?user=hVaJhRYAAAAJ&hl=en), scientifique renommé dans le deep / machine learning:\n",
    "\n",
    "*\"In applied machine learning, you must become the scientist and perform systematic experiments.*\n",
    "\n",
    "*The answers to questions that you care about, such as what algorithm works best on your data or which input features to use, can only be found through the results of experimental trials.*\n",
    "\n",
    "***This is due mainly to the fact that machine learning methods are complex and resist formal methods of analysis.**\"* [Source](https://machinelearningmastery.com/controlled-experiments-in-machine-learning/)\n",
    "\n",
    "Nous avons donc **entrainé plus d'une cinquantaine de modèles** en **testant et modifiant chaque étape du réseau de neurones**, la plupart avaient des résultats médiocres. Le modèle actuel est celui qui a obtenu les meilleurs résultats."
   ]
  },
  {
   "cell_type": "markdown",
   "id": "1218b1cd-e3e7-4e7f-8ef5-3bd493d75637",
   "metadata": {},
   "source": [
    "### 1. Construction du modèle\n",
    "\n",
    "Le modèle est composé, comme expliqué plus haut, majoritairement d'une itération de Convolutions2D suivis de MaxPooling, connectés à la fin par un Fully Connected Layer et une fonction de catégorisation softmax permettant d'obtenir un output de probabilités des classes.\n",
    "\n",
    "Voici une fonction d'activation qui donnait de meilleures performances que ReLU que nous avons utilisé dans le modèle :"
   ]
  },
  {
   "cell_type": "code",
   "execution_count": 16,
   "id": "3b0c556f-a8bb-4998-a9f4-85cbd903a60d",
   "metadata": {},
   "outputs": [],
   "source": [
    "def mish(x):\n",
    "    # Mish Activation Function\n",
    "    # Mish is a novel activation function proposed by Misra (2019). It is defined as x * tanh(softplus(x)).\n",
    "    # The function aims to provide better performance by facilitating smoother and deeper information propagation without saturation.\n",
    "    # Its non-monotonic nature helps in reducing the risk of dead neurons and encourages a more efficient learning process.\n",
    "    return x * tf.math.tanh(tf.math.softplus(x))"
   ]
  },
  {
   "cell_type": "markdown",
   "id": "51e90216-232e-4b63-865d-5e0cf88ee7d9",
   "metadata": {},
   "source": [
    "Et voici la fonction qui construit le modèle:"
   ]
  },
  {
   "cell_type": "code",
   "execution_count": 17,
   "id": "360c92ce-a3ed-4154-8ac3-3c9738ae9435",
   "metadata": {},
   "outputs": [],
   "source": [
    "def build_model():\n",
    "    # Define the input layer with the shape of the images\n",
    "    # This is the first layer of the network, where we specify the dimensions of the input images (height, width, channels).\n",
    "    # img_size should match the dimensions of the images in your dataset, and '1' indicates grayscale images. For RGB images, this would be 3.\n",
    "    input_img = Input(shape=(img_size, img_size, 1))\n",
    "\n",
    "    # First Convolutional Block\n",
    "    # Convolutional layers are the core building blocks of a CNN. They perform convolution operations, learning features from the input images.\n",
    "    # A 32 filter with a (3,3) kernel size is a common choice for the first layer, aiming to capture basic patterns such as edges and corners.\n",
    "    # Padding=\"same\" ensures the output has the same width and height as the input, providing a way to preserve spatial dimensions after convolution.\n",
    "    x = Conv2D(32, (3, 3), padding=\"same\")(input_img)\n",
    "\n",
    "    # Batch Normalization\n",
    "    # Batch normalization is used to normalize the inputs of each layer. It stabilizes the learning process and dramatically reduces the number of training epochs required to train deep networks.\n",
    "    x = BatchNormalization()(x)\n",
    "\n",
    "    # Activation - Mish\n",
    "    # After normalization, we apply the Mish activation function to introduce non-linearity, allowing the network to learn complex patterns.\n",
    "    # Mish is a novel activation function and provides better performance compared to traditional functions like ReLU or Sigmoid.\n",
    "    x = Activation(mish)(x)\n",
    "\n",
    "    # MaxPooling\n",
    "    # MaxPooling reduces the spatial dimensions (height and width) of the input volume for the next convolutional layer. It helps in reducing computation, and it also helps in extracting robust features.\n",
    "    x = MaxPooling2D(pool_size=(2, 2))(x)\n",
    "\n",
    "    # Dropout\n",
    "    # Dropout is a regularization technique where randomly selected neurons are ignored during training, reducing the risk of overfitting.\n",
    "    # A rate of 0.25 means 25% of the nodes are dropped out, chosen empirically to balance between regularization and retaining network capacity.\n",
    "    x = Dropout(0.25)(x)\n",
    "\n",
    "    # Subsequent Convolutional Blocks\n",
    "    # Similar blocks are stacked, with increasing filter sizes to capture more complex patterns. A common practice is to double the number of filters, this provided better performance.\n",
    "    # This increase reflects the idea that the higher up we go in the network, the more complex and abstract the features should become.\n",
    "    # The choices of kernel sizes, padding, activation functions, and dropout rates follow the same rationale as above.\n",
    "    filters = [32, 64, 64, 128, 128]\n",
    "    for f in filters:\n",
    "        x = Conv2D(f, (3, 3), padding=\"same\")(x)\n",
    "        x = BatchNormalization()(x)\n",
    "        x = Activation(mish)(x)\n",
    "\n",
    "        # Only apply MaxPooling and Dropout for more complex patterns\n",
    "        # We don't apply MaxPooling and Dropout for the first two blocks to keep the basic features of the image (edges, corners, etc.) intact.\n",
    "        # For the subsequent blocks, we apply MaxPooling and Dropout to reduce the spatial dimensions and prevent overfitting.\n",
    "        # The maxpooling is more effective for larger filter sizes, as they are the ones which require more computation.\n",
    "        if f in [64, 128]:\n",
    "            x = MaxPooling2D(pool_size=(2, 2))(x)\n",
    "            x = Dropout(0.25)(x)\n",
    "\n",
    "    # Flatten\n",
    "    # Before connecting to a fully connected (Dense) layer, the feature maps must be flattened into a single vector.\n",
    "    x = Flatten()(x)\n",
    "\n",
    "    # Fully Connected Layer\n",
    "    # Dense layers perform classification based on the features extracted and downsampled by the convolutional and pooling layers.\n",
    "    # A size of 200 neurons is chosen as a balance between model complexity and computational efficiency.\n",
    "    x = Dense(200)(x)\n",
    "    x = BatchNormalization()(x)\n",
    "    x = Activation(mish)(x)\n",
    "    x = Dropout(0.3)(x)\n",
    "\n",
    "    # Output Layer\n",
    "    # The final layer is a Dense layer with a number of neurons equal to the number of classes in the dataset. Softmax activation is used for multi-class classification.\n",
    "    output = Dense(num_classes, activation=\"softmax\")(x)\n",
    "\n",
    "    # Model Compilation\n",
    "    # Adam optimizer is used with its default learning rate, which is found to be effective across a variety of tasks.\n",
    "    # The choice of the loss function, categorical_crossentropy, is standard for multi-class classification problems.\n",
    "    model = Model(inputs=input_img, outputs=output)\n",
    "    optimizer = Adam(\n",
    "        learning_rate=2e-3,\n",
    "        beta_1=0.9,\n",
    "        beta_2=0.999,\n",
    "        epsilon=1e-08,\n",
    "        amsgrad=False,\n",
    "    )\n",
    "    model.compile(\n",
    "        optimizer=optimizer, loss=\"categorical_crossentropy\", metrics=[\"accuracy\"]\n",
    "    )\n",
    "\n",
    "    # Model Summary\n",
    "    model.summary()\n",
    "\n",
    "    return model"
   ]
  },
  {
   "cell_type": "markdown",
   "id": "8b4c0b14-087d-4ec2-9527-10f51e7a9f4c",
   "metadata": {},
   "source": [
    "**Et la petite démo:**"
   ]
  },
  {
   "cell_type": "code",
   "execution_count": 18,
   "id": "158286f5-bede-4bbe-a491-388c5591e785",
   "metadata": {},
   "outputs": [
    {
     "data": {
      "text/html": [
       "<pre style=\"white-space:pre;overflow-x:auto;line-height:normal;font-family:Menlo,'DejaVu Sans Mono',consolas,'Courier New',monospace\"><span style=\"font-weight: bold\">Model: \"functional_5\"</span>\n",
       "</pre>\n"
      ],
      "text/plain": [
       "\u001b[1mModel: \"functional_5\"\u001b[0m\n"
      ]
     },
     "metadata": {},
     "output_type": "display_data"
    },
    {
     "data": {
      "text/html": [
       "<pre style=\"white-space:pre;overflow-x:auto;line-height:normal;font-family:Menlo,'DejaVu Sans Mono',consolas,'Courier New',monospace\">┏━━━━━━━━━━━━━━━━━━━━━━━━━━━━━━━━━┳━━━━━━━━━━━━━━━━━━━━━━━━┳━━━━━━━━━━━━━━━┓\n",
       "┃<span style=\"font-weight: bold\"> Layer (type)                    </span>┃<span style=\"font-weight: bold\"> Output Shape           </span>┃<span style=\"font-weight: bold\">       Param # </span>┃\n",
       "┡━━━━━━━━━━━━━━━━━━━━━━━━━━━━━━━━━╇━━━━━━━━━━━━━━━━━━━━━━━━╇━━━━━━━━━━━━━━━┩\n",
       "│ input_layer_1 (<span style=\"color: #0087ff; text-decoration-color: #0087ff\">InputLayer</span>)      │ (<span style=\"color: #00d7ff; text-decoration-color: #00d7ff\">None</span>, <span style=\"color: #00af00; text-decoration-color: #00af00\">70</span>, <span style=\"color: #00af00; text-decoration-color: #00af00\">70</span>, <span style=\"color: #00af00; text-decoration-color: #00af00\">1</span>)      │             <span style=\"color: #00af00; text-decoration-color: #00af00\">0</span> │\n",
       "├─────────────────────────────────┼────────────────────────┼───────────────┤\n",
       "│ conv2d_1 (<span style=\"color: #0087ff; text-decoration-color: #0087ff\">Conv2D</span>)               │ (<span style=\"color: #00d7ff; text-decoration-color: #00d7ff\">None</span>, <span style=\"color: #00af00; text-decoration-color: #00af00\">70</span>, <span style=\"color: #00af00; text-decoration-color: #00af00\">70</span>, <span style=\"color: #00af00; text-decoration-color: #00af00\">32</span>)     │           <span style=\"color: #00af00; text-decoration-color: #00af00\">320</span> │\n",
       "├─────────────────────────────────┼────────────────────────┼───────────────┤\n",
       "│ batch_normalization             │ (<span style=\"color: #00d7ff; text-decoration-color: #00d7ff\">None</span>, <span style=\"color: #00af00; text-decoration-color: #00af00\">70</span>, <span style=\"color: #00af00; text-decoration-color: #00af00\">70</span>, <span style=\"color: #00af00; text-decoration-color: #00af00\">32</span>)     │           <span style=\"color: #00af00; text-decoration-color: #00af00\">128</span> │\n",
       "│ (<span style=\"color: #0087ff; text-decoration-color: #0087ff\">BatchNormalization</span>)            │                        │               │\n",
       "├─────────────────────────────────┼────────────────────────┼───────────────┤\n",
       "│ activation (<span style=\"color: #0087ff; text-decoration-color: #0087ff\">Activation</span>)         │ (<span style=\"color: #00d7ff; text-decoration-color: #00d7ff\">None</span>, <span style=\"color: #00af00; text-decoration-color: #00af00\">70</span>, <span style=\"color: #00af00; text-decoration-color: #00af00\">70</span>, <span style=\"color: #00af00; text-decoration-color: #00af00\">32</span>)     │             <span style=\"color: #00af00; text-decoration-color: #00af00\">0</span> │\n",
       "├─────────────────────────────────┼────────────────────────┼───────────────┤\n",
       "│ max_pooling2d_1 (<span style=\"color: #0087ff; text-decoration-color: #0087ff\">MaxPooling2D</span>)  │ (<span style=\"color: #00d7ff; text-decoration-color: #00d7ff\">None</span>, <span style=\"color: #00af00; text-decoration-color: #00af00\">35</span>, <span style=\"color: #00af00; text-decoration-color: #00af00\">35</span>, <span style=\"color: #00af00; text-decoration-color: #00af00\">32</span>)     │             <span style=\"color: #00af00; text-decoration-color: #00af00\">0</span> │\n",
       "├─────────────────────────────────┼────────────────────────┼───────────────┤\n",
       "│ dropout (<span style=\"color: #0087ff; text-decoration-color: #0087ff\">Dropout</span>)               │ (<span style=\"color: #00d7ff; text-decoration-color: #00d7ff\">None</span>, <span style=\"color: #00af00; text-decoration-color: #00af00\">35</span>, <span style=\"color: #00af00; text-decoration-color: #00af00\">35</span>, <span style=\"color: #00af00; text-decoration-color: #00af00\">32</span>)     │             <span style=\"color: #00af00; text-decoration-color: #00af00\">0</span> │\n",
       "├─────────────────────────────────┼────────────────────────┼───────────────┤\n",
       "│ conv2d_2 (<span style=\"color: #0087ff; text-decoration-color: #0087ff\">Conv2D</span>)               │ (<span style=\"color: #00d7ff; text-decoration-color: #00d7ff\">None</span>, <span style=\"color: #00af00; text-decoration-color: #00af00\">35</span>, <span style=\"color: #00af00; text-decoration-color: #00af00\">35</span>, <span style=\"color: #00af00; text-decoration-color: #00af00\">32</span>)     │         <span style=\"color: #00af00; text-decoration-color: #00af00\">9,248</span> │\n",
       "├─────────────────────────────────┼────────────────────────┼───────────────┤\n",
       "│ batch_normalization_1           │ (<span style=\"color: #00d7ff; text-decoration-color: #00d7ff\">None</span>, <span style=\"color: #00af00; text-decoration-color: #00af00\">35</span>, <span style=\"color: #00af00; text-decoration-color: #00af00\">35</span>, <span style=\"color: #00af00; text-decoration-color: #00af00\">32</span>)     │           <span style=\"color: #00af00; text-decoration-color: #00af00\">128</span> │\n",
       "│ (<span style=\"color: #0087ff; text-decoration-color: #0087ff\">BatchNormalization</span>)            │                        │               │\n",
       "├─────────────────────────────────┼────────────────────────┼───────────────┤\n",
       "│ activation_1 (<span style=\"color: #0087ff; text-decoration-color: #0087ff\">Activation</span>)       │ (<span style=\"color: #00d7ff; text-decoration-color: #00d7ff\">None</span>, <span style=\"color: #00af00; text-decoration-color: #00af00\">35</span>, <span style=\"color: #00af00; text-decoration-color: #00af00\">35</span>, <span style=\"color: #00af00; text-decoration-color: #00af00\">32</span>)     │             <span style=\"color: #00af00; text-decoration-color: #00af00\">0</span> │\n",
       "├─────────────────────────────────┼────────────────────────┼───────────────┤\n",
       "│ conv2d_3 (<span style=\"color: #0087ff; text-decoration-color: #0087ff\">Conv2D</span>)               │ (<span style=\"color: #00d7ff; text-decoration-color: #00d7ff\">None</span>, <span style=\"color: #00af00; text-decoration-color: #00af00\">35</span>, <span style=\"color: #00af00; text-decoration-color: #00af00\">35</span>, <span style=\"color: #00af00; text-decoration-color: #00af00\">64</span>)     │        <span style=\"color: #00af00; text-decoration-color: #00af00\">18,496</span> │\n",
       "├─────────────────────────────────┼────────────────────────┼───────────────┤\n",
       "│ batch_normalization_2           │ (<span style=\"color: #00d7ff; text-decoration-color: #00d7ff\">None</span>, <span style=\"color: #00af00; text-decoration-color: #00af00\">35</span>, <span style=\"color: #00af00; text-decoration-color: #00af00\">35</span>, <span style=\"color: #00af00; text-decoration-color: #00af00\">64</span>)     │           <span style=\"color: #00af00; text-decoration-color: #00af00\">256</span> │\n",
       "│ (<span style=\"color: #0087ff; text-decoration-color: #0087ff\">BatchNormalization</span>)            │                        │               │\n",
       "├─────────────────────────────────┼────────────────────────┼───────────────┤\n",
       "│ activation_2 (<span style=\"color: #0087ff; text-decoration-color: #0087ff\">Activation</span>)       │ (<span style=\"color: #00d7ff; text-decoration-color: #00d7ff\">None</span>, <span style=\"color: #00af00; text-decoration-color: #00af00\">35</span>, <span style=\"color: #00af00; text-decoration-color: #00af00\">35</span>, <span style=\"color: #00af00; text-decoration-color: #00af00\">64</span>)     │             <span style=\"color: #00af00; text-decoration-color: #00af00\">0</span> │\n",
       "├─────────────────────────────────┼────────────────────────┼───────────────┤\n",
       "│ max_pooling2d_2 (<span style=\"color: #0087ff; text-decoration-color: #0087ff\">MaxPooling2D</span>)  │ (<span style=\"color: #00d7ff; text-decoration-color: #00d7ff\">None</span>, <span style=\"color: #00af00; text-decoration-color: #00af00\">17</span>, <span style=\"color: #00af00; text-decoration-color: #00af00\">17</span>, <span style=\"color: #00af00; text-decoration-color: #00af00\">64</span>)     │             <span style=\"color: #00af00; text-decoration-color: #00af00\">0</span> │\n",
       "├─────────────────────────────────┼────────────────────────┼───────────────┤\n",
       "│ dropout_1 (<span style=\"color: #0087ff; text-decoration-color: #0087ff\">Dropout</span>)             │ (<span style=\"color: #00d7ff; text-decoration-color: #00d7ff\">None</span>, <span style=\"color: #00af00; text-decoration-color: #00af00\">17</span>, <span style=\"color: #00af00; text-decoration-color: #00af00\">17</span>, <span style=\"color: #00af00; text-decoration-color: #00af00\">64</span>)     │             <span style=\"color: #00af00; text-decoration-color: #00af00\">0</span> │\n",
       "├─────────────────────────────────┼────────────────────────┼───────────────┤\n",
       "│ conv2d_4 (<span style=\"color: #0087ff; text-decoration-color: #0087ff\">Conv2D</span>)               │ (<span style=\"color: #00d7ff; text-decoration-color: #00d7ff\">None</span>, <span style=\"color: #00af00; text-decoration-color: #00af00\">17</span>, <span style=\"color: #00af00; text-decoration-color: #00af00\">17</span>, <span style=\"color: #00af00; text-decoration-color: #00af00\">64</span>)     │        <span style=\"color: #00af00; text-decoration-color: #00af00\">36,928</span> │\n",
       "├─────────────────────────────────┼────────────────────────┼───────────────┤\n",
       "│ batch_normalization_3           │ (<span style=\"color: #00d7ff; text-decoration-color: #00d7ff\">None</span>, <span style=\"color: #00af00; text-decoration-color: #00af00\">17</span>, <span style=\"color: #00af00; text-decoration-color: #00af00\">17</span>, <span style=\"color: #00af00; text-decoration-color: #00af00\">64</span>)     │           <span style=\"color: #00af00; text-decoration-color: #00af00\">256</span> │\n",
       "│ (<span style=\"color: #0087ff; text-decoration-color: #0087ff\">BatchNormalization</span>)            │                        │               │\n",
       "├─────────────────────────────────┼────────────────────────┼───────────────┤\n",
       "│ activation_3 (<span style=\"color: #0087ff; text-decoration-color: #0087ff\">Activation</span>)       │ (<span style=\"color: #00d7ff; text-decoration-color: #00d7ff\">None</span>, <span style=\"color: #00af00; text-decoration-color: #00af00\">17</span>, <span style=\"color: #00af00; text-decoration-color: #00af00\">17</span>, <span style=\"color: #00af00; text-decoration-color: #00af00\">64</span>)     │             <span style=\"color: #00af00; text-decoration-color: #00af00\">0</span> │\n",
       "├─────────────────────────────────┼────────────────────────┼───────────────┤\n",
       "│ max_pooling2d_3 (<span style=\"color: #0087ff; text-decoration-color: #0087ff\">MaxPooling2D</span>)  │ (<span style=\"color: #00d7ff; text-decoration-color: #00d7ff\">None</span>, <span style=\"color: #00af00; text-decoration-color: #00af00\">8</span>, <span style=\"color: #00af00; text-decoration-color: #00af00\">8</span>, <span style=\"color: #00af00; text-decoration-color: #00af00\">64</span>)       │             <span style=\"color: #00af00; text-decoration-color: #00af00\">0</span> │\n",
       "├─────────────────────────────────┼────────────────────────┼───────────────┤\n",
       "│ dropout_2 (<span style=\"color: #0087ff; text-decoration-color: #0087ff\">Dropout</span>)             │ (<span style=\"color: #00d7ff; text-decoration-color: #00d7ff\">None</span>, <span style=\"color: #00af00; text-decoration-color: #00af00\">8</span>, <span style=\"color: #00af00; text-decoration-color: #00af00\">8</span>, <span style=\"color: #00af00; text-decoration-color: #00af00\">64</span>)       │             <span style=\"color: #00af00; text-decoration-color: #00af00\">0</span> │\n",
       "├─────────────────────────────────┼────────────────────────┼───────────────┤\n",
       "│ conv2d_5 (<span style=\"color: #0087ff; text-decoration-color: #0087ff\">Conv2D</span>)               │ (<span style=\"color: #00d7ff; text-decoration-color: #00d7ff\">None</span>, <span style=\"color: #00af00; text-decoration-color: #00af00\">8</span>, <span style=\"color: #00af00; text-decoration-color: #00af00\">8</span>, <span style=\"color: #00af00; text-decoration-color: #00af00\">128</span>)      │        <span style=\"color: #00af00; text-decoration-color: #00af00\">73,856</span> │\n",
       "├─────────────────────────────────┼────────────────────────┼───────────────┤\n",
       "│ batch_normalization_4           │ (<span style=\"color: #00d7ff; text-decoration-color: #00d7ff\">None</span>, <span style=\"color: #00af00; text-decoration-color: #00af00\">8</span>, <span style=\"color: #00af00; text-decoration-color: #00af00\">8</span>, <span style=\"color: #00af00; text-decoration-color: #00af00\">128</span>)      │           <span style=\"color: #00af00; text-decoration-color: #00af00\">512</span> │\n",
       "│ (<span style=\"color: #0087ff; text-decoration-color: #0087ff\">BatchNormalization</span>)            │                        │               │\n",
       "├─────────────────────────────────┼────────────────────────┼───────────────┤\n",
       "│ activation_4 (<span style=\"color: #0087ff; text-decoration-color: #0087ff\">Activation</span>)       │ (<span style=\"color: #00d7ff; text-decoration-color: #00d7ff\">None</span>, <span style=\"color: #00af00; text-decoration-color: #00af00\">8</span>, <span style=\"color: #00af00; text-decoration-color: #00af00\">8</span>, <span style=\"color: #00af00; text-decoration-color: #00af00\">128</span>)      │             <span style=\"color: #00af00; text-decoration-color: #00af00\">0</span> │\n",
       "├─────────────────────────────────┼────────────────────────┼───────────────┤\n",
       "│ max_pooling2d_4 (<span style=\"color: #0087ff; text-decoration-color: #0087ff\">MaxPooling2D</span>)  │ (<span style=\"color: #00d7ff; text-decoration-color: #00d7ff\">None</span>, <span style=\"color: #00af00; text-decoration-color: #00af00\">4</span>, <span style=\"color: #00af00; text-decoration-color: #00af00\">4</span>, <span style=\"color: #00af00; text-decoration-color: #00af00\">128</span>)      │             <span style=\"color: #00af00; text-decoration-color: #00af00\">0</span> │\n",
       "├─────────────────────────────────┼────────────────────────┼───────────────┤\n",
       "│ dropout_3 (<span style=\"color: #0087ff; text-decoration-color: #0087ff\">Dropout</span>)             │ (<span style=\"color: #00d7ff; text-decoration-color: #00d7ff\">None</span>, <span style=\"color: #00af00; text-decoration-color: #00af00\">4</span>, <span style=\"color: #00af00; text-decoration-color: #00af00\">4</span>, <span style=\"color: #00af00; text-decoration-color: #00af00\">128</span>)      │             <span style=\"color: #00af00; text-decoration-color: #00af00\">0</span> │\n",
       "├─────────────────────────────────┼────────────────────────┼───────────────┤\n",
       "│ conv2d_6 (<span style=\"color: #0087ff; text-decoration-color: #0087ff\">Conv2D</span>)               │ (<span style=\"color: #00d7ff; text-decoration-color: #00d7ff\">None</span>, <span style=\"color: #00af00; text-decoration-color: #00af00\">4</span>, <span style=\"color: #00af00; text-decoration-color: #00af00\">4</span>, <span style=\"color: #00af00; text-decoration-color: #00af00\">128</span>)      │       <span style=\"color: #00af00; text-decoration-color: #00af00\">147,584</span> │\n",
       "├─────────────────────────────────┼────────────────────────┼───────────────┤\n",
       "│ batch_normalization_5           │ (<span style=\"color: #00d7ff; text-decoration-color: #00d7ff\">None</span>, <span style=\"color: #00af00; text-decoration-color: #00af00\">4</span>, <span style=\"color: #00af00; text-decoration-color: #00af00\">4</span>, <span style=\"color: #00af00; text-decoration-color: #00af00\">128</span>)      │           <span style=\"color: #00af00; text-decoration-color: #00af00\">512</span> │\n",
       "│ (<span style=\"color: #0087ff; text-decoration-color: #0087ff\">BatchNormalization</span>)            │                        │               │\n",
       "├─────────────────────────────────┼────────────────────────┼───────────────┤\n",
       "│ activation_5 (<span style=\"color: #0087ff; text-decoration-color: #0087ff\">Activation</span>)       │ (<span style=\"color: #00d7ff; text-decoration-color: #00d7ff\">None</span>, <span style=\"color: #00af00; text-decoration-color: #00af00\">4</span>, <span style=\"color: #00af00; text-decoration-color: #00af00\">4</span>, <span style=\"color: #00af00; text-decoration-color: #00af00\">128</span>)      │             <span style=\"color: #00af00; text-decoration-color: #00af00\">0</span> │\n",
       "├─────────────────────────────────┼────────────────────────┼───────────────┤\n",
       "│ max_pooling2d_5 (<span style=\"color: #0087ff; text-decoration-color: #0087ff\">MaxPooling2D</span>)  │ (<span style=\"color: #00d7ff; text-decoration-color: #00d7ff\">None</span>, <span style=\"color: #00af00; text-decoration-color: #00af00\">2</span>, <span style=\"color: #00af00; text-decoration-color: #00af00\">2</span>, <span style=\"color: #00af00; text-decoration-color: #00af00\">128</span>)      │             <span style=\"color: #00af00; text-decoration-color: #00af00\">0</span> │\n",
       "├─────────────────────────────────┼────────────────────────┼───────────────┤\n",
       "│ dropout_4 (<span style=\"color: #0087ff; text-decoration-color: #0087ff\">Dropout</span>)             │ (<span style=\"color: #00d7ff; text-decoration-color: #00d7ff\">None</span>, <span style=\"color: #00af00; text-decoration-color: #00af00\">2</span>, <span style=\"color: #00af00; text-decoration-color: #00af00\">2</span>, <span style=\"color: #00af00; text-decoration-color: #00af00\">128</span>)      │             <span style=\"color: #00af00; text-decoration-color: #00af00\">0</span> │\n",
       "├─────────────────────────────────┼────────────────────────┼───────────────┤\n",
       "│ flatten_1 (<span style=\"color: #0087ff; text-decoration-color: #0087ff\">Flatten</span>)             │ (<span style=\"color: #00d7ff; text-decoration-color: #00d7ff\">None</span>, <span style=\"color: #00af00; text-decoration-color: #00af00\">512</span>)            │             <span style=\"color: #00af00; text-decoration-color: #00af00\">0</span> │\n",
       "├─────────────────────────────────┼────────────────────────┼───────────────┤\n",
       "│ dense_1 (<span style=\"color: #0087ff; text-decoration-color: #0087ff\">Dense</span>)                 │ (<span style=\"color: #00d7ff; text-decoration-color: #00d7ff\">None</span>, <span style=\"color: #00af00; text-decoration-color: #00af00\">200</span>)            │       <span style=\"color: #00af00; text-decoration-color: #00af00\">102,600</span> │\n",
       "├─────────────────────────────────┼────────────────────────┼───────────────┤\n",
       "│ batch_normalization_6           │ (<span style=\"color: #00d7ff; text-decoration-color: #00d7ff\">None</span>, <span style=\"color: #00af00; text-decoration-color: #00af00\">200</span>)            │           <span style=\"color: #00af00; text-decoration-color: #00af00\">800</span> │\n",
       "│ (<span style=\"color: #0087ff; text-decoration-color: #0087ff\">BatchNormalization</span>)            │                        │               │\n",
       "├─────────────────────────────────┼────────────────────────┼───────────────┤\n",
       "│ activation_6 (<span style=\"color: #0087ff; text-decoration-color: #0087ff\">Activation</span>)       │ (<span style=\"color: #00d7ff; text-decoration-color: #00d7ff\">None</span>, <span style=\"color: #00af00; text-decoration-color: #00af00\">200</span>)            │             <span style=\"color: #00af00; text-decoration-color: #00af00\">0</span> │\n",
       "├─────────────────────────────────┼────────────────────────┼───────────────┤\n",
       "│ dropout_5 (<span style=\"color: #0087ff; text-decoration-color: #0087ff\">Dropout</span>)             │ (<span style=\"color: #00d7ff; text-decoration-color: #00d7ff\">None</span>, <span style=\"color: #00af00; text-decoration-color: #00af00\">200</span>)            │             <span style=\"color: #00af00; text-decoration-color: #00af00\">0</span> │\n",
       "├─────────────────────────────────┼────────────────────────┼───────────────┤\n",
       "│ dense_2 (<span style=\"color: #0087ff; text-decoration-color: #0087ff\">Dense</span>)                 │ (<span style=\"color: #00d7ff; text-decoration-color: #00d7ff\">None</span>, <span style=\"color: #00af00; text-decoration-color: #00af00\">4</span>)              │           <span style=\"color: #00af00; text-decoration-color: #00af00\">804</span> │\n",
       "└─────────────────────────────────┴────────────────────────┴───────────────┘\n",
       "</pre>\n"
      ],
      "text/plain": [
       "┏━━━━━━━━━━━━━━━━━━━━━━━━━━━━━━━━━┳━━━━━━━━━━━━━━━━━━━━━━━━┳━━━━━━━━━━━━━━━┓\n",
       "┃\u001b[1m \u001b[0m\u001b[1mLayer (type)                   \u001b[0m\u001b[1m \u001b[0m┃\u001b[1m \u001b[0m\u001b[1mOutput Shape          \u001b[0m\u001b[1m \u001b[0m┃\u001b[1m \u001b[0m\u001b[1m      Param #\u001b[0m\u001b[1m \u001b[0m┃\n",
       "┡━━━━━━━━━━━━━━━━━━━━━━━━━━━━━━━━━╇━━━━━━━━━━━━━━━━━━━━━━━━╇━━━━━━━━━━━━━━━┩\n",
       "│ input_layer_1 (\u001b[38;5;33mInputLayer\u001b[0m)      │ (\u001b[38;5;45mNone\u001b[0m, \u001b[38;5;34m70\u001b[0m, \u001b[38;5;34m70\u001b[0m, \u001b[38;5;34m1\u001b[0m)      │             \u001b[38;5;34m0\u001b[0m │\n",
       "├─────────────────────────────────┼────────────────────────┼───────────────┤\n",
       "│ conv2d_1 (\u001b[38;5;33mConv2D\u001b[0m)               │ (\u001b[38;5;45mNone\u001b[0m, \u001b[38;5;34m70\u001b[0m, \u001b[38;5;34m70\u001b[0m, \u001b[38;5;34m32\u001b[0m)     │           \u001b[38;5;34m320\u001b[0m │\n",
       "├─────────────────────────────────┼────────────────────────┼───────────────┤\n",
       "│ batch_normalization             │ (\u001b[38;5;45mNone\u001b[0m, \u001b[38;5;34m70\u001b[0m, \u001b[38;5;34m70\u001b[0m, \u001b[38;5;34m32\u001b[0m)     │           \u001b[38;5;34m128\u001b[0m │\n",
       "│ (\u001b[38;5;33mBatchNormalization\u001b[0m)            │                        │               │\n",
       "├─────────────────────────────────┼────────────────────────┼───────────────┤\n",
       "│ activation (\u001b[38;5;33mActivation\u001b[0m)         │ (\u001b[38;5;45mNone\u001b[0m, \u001b[38;5;34m70\u001b[0m, \u001b[38;5;34m70\u001b[0m, \u001b[38;5;34m32\u001b[0m)     │             \u001b[38;5;34m0\u001b[0m │\n",
       "├─────────────────────────────────┼────────────────────────┼───────────────┤\n",
       "│ max_pooling2d_1 (\u001b[38;5;33mMaxPooling2D\u001b[0m)  │ (\u001b[38;5;45mNone\u001b[0m, \u001b[38;5;34m35\u001b[0m, \u001b[38;5;34m35\u001b[0m, \u001b[38;5;34m32\u001b[0m)     │             \u001b[38;5;34m0\u001b[0m │\n",
       "├─────────────────────────────────┼────────────────────────┼───────────────┤\n",
       "│ dropout (\u001b[38;5;33mDropout\u001b[0m)               │ (\u001b[38;5;45mNone\u001b[0m, \u001b[38;5;34m35\u001b[0m, \u001b[38;5;34m35\u001b[0m, \u001b[38;5;34m32\u001b[0m)     │             \u001b[38;5;34m0\u001b[0m │\n",
       "├─────────────────────────────────┼────────────────────────┼───────────────┤\n",
       "│ conv2d_2 (\u001b[38;5;33mConv2D\u001b[0m)               │ (\u001b[38;5;45mNone\u001b[0m, \u001b[38;5;34m35\u001b[0m, \u001b[38;5;34m35\u001b[0m, \u001b[38;5;34m32\u001b[0m)     │         \u001b[38;5;34m9,248\u001b[0m │\n",
       "├─────────────────────────────────┼────────────────────────┼───────────────┤\n",
       "│ batch_normalization_1           │ (\u001b[38;5;45mNone\u001b[0m, \u001b[38;5;34m35\u001b[0m, \u001b[38;5;34m35\u001b[0m, \u001b[38;5;34m32\u001b[0m)     │           \u001b[38;5;34m128\u001b[0m │\n",
       "│ (\u001b[38;5;33mBatchNormalization\u001b[0m)            │                        │               │\n",
       "├─────────────────────────────────┼────────────────────────┼───────────────┤\n",
       "│ activation_1 (\u001b[38;5;33mActivation\u001b[0m)       │ (\u001b[38;5;45mNone\u001b[0m, \u001b[38;5;34m35\u001b[0m, \u001b[38;5;34m35\u001b[0m, \u001b[38;5;34m32\u001b[0m)     │             \u001b[38;5;34m0\u001b[0m │\n",
       "├─────────────────────────────────┼────────────────────────┼───────────────┤\n",
       "│ conv2d_3 (\u001b[38;5;33mConv2D\u001b[0m)               │ (\u001b[38;5;45mNone\u001b[0m, \u001b[38;5;34m35\u001b[0m, \u001b[38;5;34m35\u001b[0m, \u001b[38;5;34m64\u001b[0m)     │        \u001b[38;5;34m18,496\u001b[0m │\n",
       "├─────────────────────────────────┼────────────────────────┼───────────────┤\n",
       "│ batch_normalization_2           │ (\u001b[38;5;45mNone\u001b[0m, \u001b[38;5;34m35\u001b[0m, \u001b[38;5;34m35\u001b[0m, \u001b[38;5;34m64\u001b[0m)     │           \u001b[38;5;34m256\u001b[0m │\n",
       "│ (\u001b[38;5;33mBatchNormalization\u001b[0m)            │                        │               │\n",
       "├─────────────────────────────────┼────────────────────────┼───────────────┤\n",
       "│ activation_2 (\u001b[38;5;33mActivation\u001b[0m)       │ (\u001b[38;5;45mNone\u001b[0m, \u001b[38;5;34m35\u001b[0m, \u001b[38;5;34m35\u001b[0m, \u001b[38;5;34m64\u001b[0m)     │             \u001b[38;5;34m0\u001b[0m │\n",
       "├─────────────────────────────────┼────────────────────────┼───────────────┤\n",
       "│ max_pooling2d_2 (\u001b[38;5;33mMaxPooling2D\u001b[0m)  │ (\u001b[38;5;45mNone\u001b[0m, \u001b[38;5;34m17\u001b[0m, \u001b[38;5;34m17\u001b[0m, \u001b[38;5;34m64\u001b[0m)     │             \u001b[38;5;34m0\u001b[0m │\n",
       "├─────────────────────────────────┼────────────────────────┼───────────────┤\n",
       "│ dropout_1 (\u001b[38;5;33mDropout\u001b[0m)             │ (\u001b[38;5;45mNone\u001b[0m, \u001b[38;5;34m17\u001b[0m, \u001b[38;5;34m17\u001b[0m, \u001b[38;5;34m64\u001b[0m)     │             \u001b[38;5;34m0\u001b[0m │\n",
       "├─────────────────────────────────┼────────────────────────┼───────────────┤\n",
       "│ conv2d_4 (\u001b[38;5;33mConv2D\u001b[0m)               │ (\u001b[38;5;45mNone\u001b[0m, \u001b[38;5;34m17\u001b[0m, \u001b[38;5;34m17\u001b[0m, \u001b[38;5;34m64\u001b[0m)     │        \u001b[38;5;34m36,928\u001b[0m │\n",
       "├─────────────────────────────────┼────────────────────────┼───────────────┤\n",
       "│ batch_normalization_3           │ (\u001b[38;5;45mNone\u001b[0m, \u001b[38;5;34m17\u001b[0m, \u001b[38;5;34m17\u001b[0m, \u001b[38;5;34m64\u001b[0m)     │           \u001b[38;5;34m256\u001b[0m │\n",
       "│ (\u001b[38;5;33mBatchNormalization\u001b[0m)            │                        │               │\n",
       "├─────────────────────────────────┼────────────────────────┼───────────────┤\n",
       "│ activation_3 (\u001b[38;5;33mActivation\u001b[0m)       │ (\u001b[38;5;45mNone\u001b[0m, \u001b[38;5;34m17\u001b[0m, \u001b[38;5;34m17\u001b[0m, \u001b[38;5;34m64\u001b[0m)     │             \u001b[38;5;34m0\u001b[0m │\n",
       "├─────────────────────────────────┼────────────────────────┼───────────────┤\n",
       "│ max_pooling2d_3 (\u001b[38;5;33mMaxPooling2D\u001b[0m)  │ (\u001b[38;5;45mNone\u001b[0m, \u001b[38;5;34m8\u001b[0m, \u001b[38;5;34m8\u001b[0m, \u001b[38;5;34m64\u001b[0m)       │             \u001b[38;5;34m0\u001b[0m │\n",
       "├─────────────────────────────────┼────────────────────────┼───────────────┤\n",
       "│ dropout_2 (\u001b[38;5;33mDropout\u001b[0m)             │ (\u001b[38;5;45mNone\u001b[0m, \u001b[38;5;34m8\u001b[0m, \u001b[38;5;34m8\u001b[0m, \u001b[38;5;34m64\u001b[0m)       │             \u001b[38;5;34m0\u001b[0m │\n",
       "├─────────────────────────────────┼────────────────────────┼───────────────┤\n",
       "│ conv2d_5 (\u001b[38;5;33mConv2D\u001b[0m)               │ (\u001b[38;5;45mNone\u001b[0m, \u001b[38;5;34m8\u001b[0m, \u001b[38;5;34m8\u001b[0m, \u001b[38;5;34m128\u001b[0m)      │        \u001b[38;5;34m73,856\u001b[0m │\n",
       "├─────────────────────────────────┼────────────────────────┼───────────────┤\n",
       "│ batch_normalization_4           │ (\u001b[38;5;45mNone\u001b[0m, \u001b[38;5;34m8\u001b[0m, \u001b[38;5;34m8\u001b[0m, \u001b[38;5;34m128\u001b[0m)      │           \u001b[38;5;34m512\u001b[0m │\n",
       "│ (\u001b[38;5;33mBatchNormalization\u001b[0m)            │                        │               │\n",
       "├─────────────────────────────────┼────────────────────────┼───────────────┤\n",
       "│ activation_4 (\u001b[38;5;33mActivation\u001b[0m)       │ (\u001b[38;5;45mNone\u001b[0m, \u001b[38;5;34m8\u001b[0m, \u001b[38;5;34m8\u001b[0m, \u001b[38;5;34m128\u001b[0m)      │             \u001b[38;5;34m0\u001b[0m │\n",
       "├─────────────────────────────────┼────────────────────────┼───────────────┤\n",
       "│ max_pooling2d_4 (\u001b[38;5;33mMaxPooling2D\u001b[0m)  │ (\u001b[38;5;45mNone\u001b[0m, \u001b[38;5;34m4\u001b[0m, \u001b[38;5;34m4\u001b[0m, \u001b[38;5;34m128\u001b[0m)      │             \u001b[38;5;34m0\u001b[0m │\n",
       "├─────────────────────────────────┼────────────────────────┼───────────────┤\n",
       "│ dropout_3 (\u001b[38;5;33mDropout\u001b[0m)             │ (\u001b[38;5;45mNone\u001b[0m, \u001b[38;5;34m4\u001b[0m, \u001b[38;5;34m4\u001b[0m, \u001b[38;5;34m128\u001b[0m)      │             \u001b[38;5;34m0\u001b[0m │\n",
       "├─────────────────────────────────┼────────────────────────┼───────────────┤\n",
       "│ conv2d_6 (\u001b[38;5;33mConv2D\u001b[0m)               │ (\u001b[38;5;45mNone\u001b[0m, \u001b[38;5;34m4\u001b[0m, \u001b[38;5;34m4\u001b[0m, \u001b[38;5;34m128\u001b[0m)      │       \u001b[38;5;34m147,584\u001b[0m │\n",
       "├─────────────────────────────────┼────────────────────────┼───────────────┤\n",
       "│ batch_normalization_5           │ (\u001b[38;5;45mNone\u001b[0m, \u001b[38;5;34m4\u001b[0m, \u001b[38;5;34m4\u001b[0m, \u001b[38;5;34m128\u001b[0m)      │           \u001b[38;5;34m512\u001b[0m │\n",
       "│ (\u001b[38;5;33mBatchNormalization\u001b[0m)            │                        │               │\n",
       "├─────────────────────────────────┼────────────────────────┼───────────────┤\n",
       "│ activation_5 (\u001b[38;5;33mActivation\u001b[0m)       │ (\u001b[38;5;45mNone\u001b[0m, \u001b[38;5;34m4\u001b[0m, \u001b[38;5;34m4\u001b[0m, \u001b[38;5;34m128\u001b[0m)      │             \u001b[38;5;34m0\u001b[0m │\n",
       "├─────────────────────────────────┼────────────────────────┼───────────────┤\n",
       "│ max_pooling2d_5 (\u001b[38;5;33mMaxPooling2D\u001b[0m)  │ (\u001b[38;5;45mNone\u001b[0m, \u001b[38;5;34m2\u001b[0m, \u001b[38;5;34m2\u001b[0m, \u001b[38;5;34m128\u001b[0m)      │             \u001b[38;5;34m0\u001b[0m │\n",
       "├─────────────────────────────────┼────────────────────────┼───────────────┤\n",
       "│ dropout_4 (\u001b[38;5;33mDropout\u001b[0m)             │ (\u001b[38;5;45mNone\u001b[0m, \u001b[38;5;34m2\u001b[0m, \u001b[38;5;34m2\u001b[0m, \u001b[38;5;34m128\u001b[0m)      │             \u001b[38;5;34m0\u001b[0m │\n",
       "├─────────────────────────────────┼────────────────────────┼───────────────┤\n",
       "│ flatten_1 (\u001b[38;5;33mFlatten\u001b[0m)             │ (\u001b[38;5;45mNone\u001b[0m, \u001b[38;5;34m512\u001b[0m)            │             \u001b[38;5;34m0\u001b[0m │\n",
       "├─────────────────────────────────┼────────────────────────┼───────────────┤\n",
       "│ dense_1 (\u001b[38;5;33mDense\u001b[0m)                 │ (\u001b[38;5;45mNone\u001b[0m, \u001b[38;5;34m200\u001b[0m)            │       \u001b[38;5;34m102,600\u001b[0m │\n",
       "├─────────────────────────────────┼────────────────────────┼───────────────┤\n",
       "│ batch_normalization_6           │ (\u001b[38;5;45mNone\u001b[0m, \u001b[38;5;34m200\u001b[0m)            │           \u001b[38;5;34m800\u001b[0m │\n",
       "│ (\u001b[38;5;33mBatchNormalization\u001b[0m)            │                        │               │\n",
       "├─────────────────────────────────┼────────────────────────┼───────────────┤\n",
       "│ activation_6 (\u001b[38;5;33mActivation\u001b[0m)       │ (\u001b[38;5;45mNone\u001b[0m, \u001b[38;5;34m200\u001b[0m)            │             \u001b[38;5;34m0\u001b[0m │\n",
       "├─────────────────────────────────┼────────────────────────┼───────────────┤\n",
       "│ dropout_5 (\u001b[38;5;33mDropout\u001b[0m)             │ (\u001b[38;5;45mNone\u001b[0m, \u001b[38;5;34m200\u001b[0m)            │             \u001b[38;5;34m0\u001b[0m │\n",
       "├─────────────────────────────────┼────────────────────────┼───────────────┤\n",
       "│ dense_2 (\u001b[38;5;33mDense\u001b[0m)                 │ (\u001b[38;5;45mNone\u001b[0m, \u001b[38;5;34m4\u001b[0m)              │           \u001b[38;5;34m804\u001b[0m │\n",
       "└─────────────────────────────────┴────────────────────────┴───────────────┘\n"
      ]
     },
     "metadata": {},
     "output_type": "display_data"
    },
    {
     "data": {
      "text/html": [
       "<pre style=\"white-space:pre;overflow-x:auto;line-height:normal;font-family:Menlo,'DejaVu Sans Mono',consolas,'Courier New',monospace\"><span style=\"font-weight: bold\"> Total params: </span><span style=\"color: #00af00; text-decoration-color: #00af00\">392,428</span> (1.50 MB)\n",
       "</pre>\n"
      ],
      "text/plain": [
       "\u001b[1m Total params: \u001b[0m\u001b[38;5;34m392,428\u001b[0m (1.50 MB)\n"
      ]
     },
     "metadata": {},
     "output_type": "display_data"
    },
    {
     "data": {
      "text/html": [
       "<pre style=\"white-space:pre;overflow-x:auto;line-height:normal;font-family:Menlo,'DejaVu Sans Mono',consolas,'Courier New',monospace\"><span style=\"font-weight: bold\"> Trainable params: </span><span style=\"color: #00af00; text-decoration-color: #00af00\">391,132</span> (1.49 MB)\n",
       "</pre>\n"
      ],
      "text/plain": [
       "\u001b[1m Trainable params: \u001b[0m\u001b[38;5;34m391,132\u001b[0m (1.49 MB)\n"
      ]
     },
     "metadata": {},
     "output_type": "display_data"
    },
    {
     "data": {
      "text/html": [
       "<pre style=\"white-space:pre;overflow-x:auto;line-height:normal;font-family:Menlo,'DejaVu Sans Mono',consolas,'Courier New',monospace\"><span style=\"font-weight: bold\"> Non-trainable params: </span><span style=\"color: #00af00; text-decoration-color: #00af00\">1,296</span> (5.06 KB)\n",
       "</pre>\n"
      ],
      "text/plain": [
       "\u001b[1m Non-trainable params: \u001b[0m\u001b[38;5;34m1,296\u001b[0m (5.06 KB)\n"
      ]
     },
     "metadata": {},
     "output_type": "display_data"
    }
   ],
   "source": [
    "model = build_model()"
   ]
  },
  {
   "cell_type": "markdown",
   "id": "73ddb1a2-ac2b-44a3-9302-0e6acae6076d",
   "metadata": {},
   "source": [
    "### 2. Entrainement du modèle\n",
    "\n",
    "Nous pouvons à présent entrainer le modèle. Ci-dessous la fonction responsable.\n",
    "\n",
    "*Le model.fit est intentionnellement commenté car entraîner le modèle prend beaucoup de temps, surtout sans GPU. Nous allons plutôt charger un modèle déjà entraîné.*"
   ]
  },
  {
   "cell_type": "code",
   "execution_count": 19,
   "id": "92b4ad2c-860f-41b8-b10f-240ca7ea6d7f",
   "metadata": {},
   "outputs": [],
   "source": [
    "def train_model(model):\n",
    "    # Data Augmentation\n",
    "    # Data augmentation is crucial for training deep learning models. It helps in making the model robust to slight variations and prevents overfitting.\n",
    "    # The chosen parameters for rotation, zoom, and flips are standard practices to introduce variability in the training data without altering the semantics of the images.\n",
    "    datagen = ImageDataGenerator(\n",
    "        rotation_range=180,\n",
    "        zoom_range=[0.98, 1.02],\n",
    "        width_shift_range=0.1,\n",
    "        height_shift_range=0.1,\n",
    "        horizontal_flip=True,\n",
    "        vertical_flip=True,\n",
    "    )\n",
    "\n",
    "    # Learning Rate Scheduler\n",
    "    # ReduceLROnPlateau reduces the learning rate when a metric has stopped improving, which in this case is the validation loss.\n",
    "    # This helps in fine-tuning the model when it's close to convergence, avoiding overshooting minima due to a high learning rate.\n",
    "    reduce_lr = ReduceLROnPlateau(\n",
    "        monitor=\"val_loss\", factor=0.2, patience=5, min_lr=0.001\n",
    "    )\n",
    "\n",
    "    train_X = train_images\n",
    "    train_y = train_labels\n",
    "\n",
    "    val_X = validation_images\n",
    "    val_y = validation_labels\n",
    "\n",
    "    X_train = train_X.reshape(-1, img_size, img_size, 1)\n",
    "    X_val = val_X.reshape(-1, img_size, img_size, 1)\n",
    "\n",
    "    Y_train = to_categorical(train_y, num_classes=num_classes)\n",
    "    Y_val = to_categorical(val_y, num_classes=num_classes)\n",
    "\n",
    "    print(\"Training model...\")\n",
    "    epochs = 10\n",
    "\n",
    "    \n",
    "    # Add the reduce_lr callback to model.fit()\n",
    "    \"\"\"\n",
    "    UNCOMMENT TO TRAIN THE MODEL\n",
    "    model.fit(\n",
    "        datagen.flow(X_train, Y_train),\n",
    "        epochs=epochs,\n",
    "        validation_data=(X_val, Y_val),\n",
    "        callbacks=[reduce_lr],\n",
    "    )\n",
    "    \"\"\"\n",
    "\n",
    "    print(\"Model trained successfully!\")\n",
    "\n",
    "    return model"
   ]
  },
  {
   "cell_type": "markdown",
   "id": "ff726e04-617b-4c41-964a-4821546e62ff",
   "metadata": {},
   "source": [
    "**Et la petite démo:**\n",
    "\n",
    "*Nous chargeons un modèle déjà entrainé pour les raisons mentionnées plus haut.*"
   ]
  },
  {
   "cell_type": "code",
   "execution_count": 20,
   "id": "d27c7360-7906-432a-8d08-0d6402440a5f",
   "metadata": {},
   "outputs": [
    {
     "name": "stdout",
     "output_type": "stream",
     "text": [
      "Model loaded successfully\n"
     ]
    }
   ],
   "source": [
    "model_path = \"./save/v1.keras\"\n",
    "\n",
    "model = tf.keras.models.load_model(model_path)\n",
    "\n",
    "print(\"Model loaded successfully\")"
   ]
  },
  {
   "cell_type": "markdown",
   "id": "bd84991a-5cde-4028-9657-53ae9ce5d90e",
   "metadata": {},
   "source": [
    "### 3. Testing de l'efficacité du modèle\n",
    "\n",
    "Maintenant que le modèle est construit et entraîné, nous pouvons commencer a tester son efficacité et a visualiser les erreurs.\n",
    "\n",
    "Voici la fonction d'évaluation du modèle :"
   ]
  },
  {
   "cell_type": "code",
   "execution_count": 21,
   "id": "52663175-fdd5-4167-87ef-af8c3b81f0f6",
   "metadata": {},
   "outputs": [],
   "source": [
    "def test_model(model):\n",
    "    # Test the model and build confusion matrix\n",
    "    print(\"Testing model...\")\n",
    "    X_test = test_images.reshape(-1, img_size, img_size, 1)\n",
    "    Y_test = to_categorical(test_labels, num_classes=num_classes)\n",
    "\n",
    "    test_loss, test_acc = model.evaluate(X_test, Y_test)\n",
    "\n",
    "    print(\"Test accuracy:\", test_acc)"
   ]
  },
  {
   "cell_type": "markdown",
   "id": "e192eeea-5d4f-4b41-b7f8-65d25049dfc1",
   "metadata": {},
   "source": [
    "**Et sa démo:**"
   ]
  },
  {
   "cell_type": "code",
   "execution_count": 22,
   "id": "7627bd36-08db-4c39-9337-15c2e6ca11f5",
   "metadata": {},
   "outputs": [
    {
     "name": "stdout",
     "output_type": "stream",
     "text": [
      "Testing model...\n"
     ]
    },
    {
     "name": "stderr",
     "output_type": "stream",
     "text": [
      "WARNING: All log messages before absl::InitializeLog() is called are written to STDERR\n",
      "I0000 00:00:1714337088.177166   25298 service.cc:145] XLA service 0x7f5dc4001d70 initialized for platform CUDA (this does not guarantee that XLA will be used). Devices:\n",
      "I0000 00:00:1714337088.177235   25298 service.cc:153]   StreamExecutor device (0): NVIDIA GeForce RTX 2080 SUPER, Compute Capability 7.5\n",
      "2024-04-28 22:44:48.196648: I tensorflow/compiler/mlir/tensorflow/utils/dump_mlir_util.cc:268] disabling MLIR crash reproducer, set env var `MLIR_CRASH_REPRODUCER_DIRECTORY` to enable.\n",
      "2024-04-28 22:44:48.283569: I external/local_xla/xla/stream_executor/cuda/cuda_dnn.cc:465] Loaded cuDNN version 8907\n"
     ]
    },
    {
     "name": "stdout",
     "output_type": "stream",
     "text": [
      "\u001b[1m46/61\u001b[0m \u001b[32m━━━━━━━━━━━━━━━\u001b[0m\u001b[37m━━━━━\u001b[0m \u001b[1m0s\u001b[0m 3ms/step - accuracy: 0.9851 - loss: 0.0511 "
     ]
    },
    {
     "name": "stderr",
     "output_type": "stream",
     "text": [
      "I0000 00:00:1714337089.450221   25298 device_compiler.h:188] Compiled cluster using XLA!  This line is logged at most once for the lifetime of the process.\n"
     ]
    },
    {
     "name": "stdout",
     "output_type": "stream",
     "text": [
      "\u001b[1m61/61\u001b[0m \u001b[32m━━━━━━━━━━━━━━━━━━━━\u001b[0m\u001b[37m\u001b[0m \u001b[1m3s\u001b[0m 17ms/step - accuracy: 0.9821 - loss: 0.0572\n",
      "Test accuracy: 0.9745189547538757\n"
     ]
    }
   ],
   "source": [
    "test_model(model)"
   ]
  },
  {
   "cell_type": "markdown",
   "id": "53f09133-99d5-4294-903c-951ffe2b1f94",
   "metadata": {},
   "source": [
    "**L'accuracy est supérieure à 97% sur notre échantillon de test (que n'a jamais vu notre modèle)**\n",
    "\n",
    "Voici à présent la fonction de visualisation qui contient la matrice de confusion du modèle :"
   ]
  },
  {
   "cell_type": "code",
   "execution_count": 23,
   "id": "f370980d-659a-4781-a543-525ac4d61840",
   "metadata": {},
   "outputs": [],
   "source": [
    "def visualize_tests(model):\n",
    "    import matplotlib.pyplot as plt\n",
    "    import seaborn as sns\n",
    "    from sklearn.metrics import confusion_matrix  # type: ignore\n",
    "\n",
    "    X_test = test_images.reshape(-1, img_size, img_size, 1)\n",
    "    Y_test = to_categorical(test_labels, num_classes=num_classes)\n",
    "\n",
    "    Y_pred = model.predict(X_test)\n",
    "    Y_pred_classes = np.argmax(Y_pred, axis=1)\n",
    "    Y_true = np.argmax(Y_test, axis=1)\n",
    "\n",
    "    cm = confusion_matrix(Y_true, Y_pred_classes)\n",
    "\n",
    "    sorted_classes = sorted(shape_classes.items(), key=lambda item: item[1])\n",
    "    class_labels = [item[0] for item in sorted_classes]\n",
    "\n",
    "    plt.figure(figsize=(10, 8))\n",
    "    ax = sns.heatmap(\n",
    "        cm,\n",
    "        annot=True,\n",
    "        fmt=\"d\",\n",
    "        cmap=\"Blues\",\n",
    "        xticklabels=class_labels,\n",
    "        yticklabels=class_labels,\n",
    "    )\n",
    "    ax.invert_yaxis()\n",
    "    plt.xlabel(\"Predicted Label\")\n",
    "    plt.ylabel(\"True Label\")\n",
    "    plt.title(\"Confusion Matrix\")\n",
    "    plt.show()"
   ]
  },
  {
   "cell_type": "markdown",
   "id": "e65da24c-fe11-4320-b5db-3363860c06c2",
   "metadata": {},
   "source": [
    "**Et sa démo:**"
   ]
  },
  {
   "cell_type": "code",
   "execution_count": 24,
   "id": "7e3d1e0f-a93f-4057-9a8b-d4299520f498",
   "metadata": {},
   "outputs": [
    {
     "name": "stdout",
     "output_type": "stream",
     "text": [
      "\u001b[1m61/61\u001b[0m \u001b[32m━━━━━━━━━━━━━━━━━━━━\u001b[0m\u001b[37m\u001b[0m \u001b[1m1s\u001b[0m 12ms/step\n"
     ]
    },
    {
     "data": {
      "image/png": "[encoded data removed]",
      "text/plain": [
       "<Figure size 1000x800 with 2 Axes>"
      ]
     },
     "metadata": {},
     "output_type": "display_data"
    }
   ],
   "source": [
    "visualize_tests(model)"
   ]
  },
  {
   "cell_type": "markdown",
   "id": "0739313e-122e-4d47-a5c0-db5be9fa2411",
   "metadata": {},
   "source": [
    "## IV. Conclusion\n",
    "\n",
    "Ce document démontre l'efficacité des réseaux de neurones convolutifs (CNN) pour catégoriser des formes dessinées à la main, soulignant leur aptitude à interpréter des données visuelles complexes. À partir d'une base théorique solide sur les CNN, nous avons préparé un dataset structuré en ensembles de train, validation, et test, et effectué un prétraitement et une normalisation des images pour maximiser l'apprentissage.\n",
    "\n",
    "En conclusion, le modèle fonctionne bien et remplit sa fonction de classification de forme pour notre whiteboard intelligent."
   ]
  },
  {
   "cell_type": "markdown",
   "id": "88b94273-3ea4-42cd-8596-71ec8984bdea",
   "metadata": {
    "jp-MarkdownHeadingCollapsed": true
   },
   "source": [
    "## V. Quelques sources scientifiques utilisées\n",
    "\n",
    "1. **Conv2D avec padding 'same'**:\n",
    "   - **Justification**: Les couches Conv2D permettent d'extraire des caractéristiques locales de l'image d'entrée. Le padding 'same' est utilisé pour conserver les dimensions spatiales de l'image à travers les couches convolutives.\n",
    "   - **Référence**: Simonyan, K., & Zisserman, A. (2014). Very Deep Convolutional Networks for Large-Scale Image Recognition. arXiv:1409.1556. Ce papier introduit VGG, une architecture profonde qui utilise des convolutions avec padding 'same' pour préserver les dimensions.\n",
    "\n",
    "2. **BatchNormalization**:\n",
    "   - **Justification**: La normalisation par lots accélère la formation en réduisant le problème du décalage de la distribution des entrées des couches au cours de l'entraînement. Cette couche est entraînable pour ajuster la normalisation et la rendre la plus bénéfique possible au modèle.\n",
    "   - **Référence**: Ioffe, S., & Szegedy, C. (2015). Batch Normalization: Accelerating Deep Network Training by Reducing Internal Covariate Shift. arXiv:1502.03167. Ce papier présente BatchNormalization et explique comment elle améliore l'entraînement des réseaux profonds.\n",
    "\n",
    "3. **Activation Mish**:\n",
    "   - **Justification**: Mish est une fonction d'activation non linéaire qui peut améliorer la capacité du modèle à apprendre des fonctions complexes.\n",
    "   - **Référence**: Misra, D. (2019). Mish: A Self Regularized Non-Monotonic Neural Activation Function. arXiv:1908.08681. Cette étude introduit Mish et démontre ses avantages par rapport à d'autres fonctions d'activation comme ReLU.\n",
    "\n",
    "4. **MaxPooling2D**:\n",
    "   - **Justification**: Le pooling maximal réduit les dimensions spatiales de l'entrée, ce qui diminue le nombre de paramètres et de calculs nécessaires dans le réseau, tout en conservant les caractéristiques importantes.\n",
    "   - **Référence**: Boureau, Y. L., Ponce, J., & LeCun, Y. (2010). A Theoretical Analysis of Feature Pooling in Visual Recognition. Proceedings of the 27th International Conference on International Conference on Machine Learning. Cette recherche explore l'impact du pooling (y compris le max pooling) sur la reconnaissance visuelle.\n",
    "\n",
    "5. **Dropout**:\n",
    "   - **Justification**: Dropout est une technique de régularisation qui aide à prévenir le surapprentissage en \"abandonnant\" aléatoirement une partie des unités neuronales pendant l'entraînement.\n",
    "   - **Référence**: Srivastava, N., Hinton, G., Krizhevsky, A., Sutskever, I., & Salakhutdinov, R. (2014). Dropout: A Simple Way to Prevent Neural Networks from Overfitting. Journal of Machine Learning Research, 15, 1929-1958. Ce papier présente Dropout et démontre son efficacité pour réduire le surapprentissage.\n",
    "\n",
    "6. **Dense + Softmax** pour la classification:\n",
    "   - **Justification**: Une couche dense est utilisée pour apprendre des combinaisons non-linéaires des caractéristiques extraites, et la fonction d'activation softmax est utilisée dans la couche de sortie pour obtenir une distribution de probabilité sur les classes.\n",
    "   - **Référence**: Goodfellow, I., Bengio, Y., Courville, A., & Bengio, Y. (2016). Deep Learning. MIT Press. Le livre offre une vue d'ensemble des réseaux de neurones, y compris l'utilisation de softmax pour la classification.\n",
    "\n",
    "7. **Adam Optimizer**:\n",
    "   - **Justification**: Adam est un optimiseur qui ajuste le taux d'apprentissage de manière adaptative pour chaque paramètre, ce qui le rend efficace pour de nombreux problèmes de deep learning. Adam fonctionne par la fonction mathématique de descente stochastique de gradients.\n",
    "   - **Référence**: Kingma, D. P., & Ba, J. (2014). Adam: A Method for Stochastic Optimization. arXiv:1412.6980. Ce papier introduit Adam et explique comment il fonctionne.\n",
    "\n",
    "8. **ImageDataGenerator pour l'augmentation de données**:\n",
    "   - **Justification**: L'augmentation de données est une technique qui crée artificiellement de nouveaux exemples d'entraînement par des transformations aléatoires des données existantes, aidant ainsi à réduire le surapprentissage.\n",
    "   - **Référence**: Shorten, C., & Khoshgoftaar, T. M. (2019). A Survey on Image Data Augmentation for Deep Learning. Journal of Big Data, 6(1), 60. Cette revue détaille différentes techniques d'augmentation de données et leur impact sur l'apprentissage profond.\n",
    "\n",
    "9. **ReduceLROnPlateau**:\n",
    "   - **Justification**: Réduire le taux d'apprentissage lorsque la métrique de performance cesse de s'améliorer peut conduire à une convergence plus fine vers le minimum de la fonction de perte.\n",
    "   - **Référence**: Bengio, Y. (2012). Practical Recommendations for Gradient-Based Training of Deep Architectures. In Neural Networks: Tricks of the Trade. Ce travail donne des recommandations sur l'ajustement du taux d'apprentissage pour améliorer l'entraînement des réseaux profonds."
   ]
  }
 ],
 "metadata": {
  "kernelspec": {
   "display_name": "Python 3 (ipykernel)",
   "language": "python",
   "name": "python3"
  },
  "language_info": {
   "codemirror_mode": {
    "name": "ipython",
    "version": 3
   },
   "file_extension": ".py",
   "mimetype": "text/x-python",
   "name": "python",
   "nbconvert_exporter": "python",
   "pygments_lexer": "ipython3",
   "version": "3.12.2"
  }
 },
 "nbformat": 4,
 "nbformat_minor": 5
}
